{
 "cells": [
  {
   "cell_type": "code",
   "execution_count": 1,
   "id": "7427500a",
   "metadata": {
    "_cell_guid": "b1076dfc-b9ad-4769-8c92-a6c4dae69d19",
    "_uuid": "8f2839f25d086af736a60e9eeb907d3b93b6e0e5",
    "execution": {
     "iopub.execute_input": "2023-06-22T05:56:24.834607Z",
     "iopub.status.busy": "2023-06-22T05:56:24.833984Z",
     "iopub.status.idle": "2023-06-22T05:56:24.858669Z",
     "shell.execute_reply": "2023-06-22T05:56:24.857378Z"
    },
    "papermill": {
     "duration": 0.047525,
     "end_time": "2023-06-22T05:56:24.861297",
     "exception": false,
     "start_time": "2023-06-22T05:56:24.813772",
     "status": "completed"
    },
    "tags": []
   },
   "outputs": [
    {
     "name": "stdout",
     "output_type": "stream",
     "text": [
      "/kaggle/input/iit-admissions-dataset/student_data.csv\n"
     ]
    }
   ],
   "source": [
    "# This Python 3 environment comes with many helpful analytics libraries installed\n",
    "# It is defined by the kaggle/python Docker image: https://github.com/kaggle/docker-python\n",
    "# For example, here's several helpful packages to load\n",
    "\n",
    "import numpy as np # linear algebra\n",
    "import pandas as pd # data processing, CSV file I/O (e.g. pd.read_csv)\n",
    "\n",
    "# Input data files are available in the read-only \"../input/\" directory\n",
    "# For example, running this (by clicking run or pressing Shift+Enter) will list all files under the input directory\n",
    "\n",
    "import os\n",
    "for dirname, _, filenames in os.walk('/kaggle/input'):\n",
    "    for filename in filenames:\n",
    "        print(os.path.join(dirname, filename))\n",
    "\n",
    "# You can write up to 20GB to the current directory (/kaggle/working/) that gets preserved as output when you create a version using \"Save & Run All\" \n",
    "# You can also write temporary files to /kaggle/temp/, but they won't be saved outside of the current session"
   ]
  },
  {
   "cell_type": "code",
   "execution_count": 2,
   "id": "2ac28758",
   "metadata": {
    "execution": {
     "iopub.execute_input": "2023-06-22T05:56:24.898334Z",
     "iopub.status.busy": "2023-06-22T05:56:24.897845Z",
     "iopub.status.idle": "2023-06-22T05:56:26.591009Z",
     "shell.execute_reply": "2023-06-22T05:56:26.589642Z"
    },
    "papermill": {
     "duration": 1.715394,
     "end_time": "2023-06-22T05:56:26.594377",
     "exception": false,
     "start_time": "2023-06-22T05:56:24.878983",
     "status": "completed"
    },
    "tags": []
   },
   "outputs": [],
   "source": [
    "import numpy as np\n",
    "import pandas as pd\n",
    "import matplotlib.pyplot as plt\n",
    "import seaborn as sns"
   ]
  },
  {
   "cell_type": "code",
   "execution_count": 3,
   "id": "ea1f786b",
   "metadata": {
    "execution": {
     "iopub.execute_input": "2023-06-22T05:56:26.631350Z",
     "iopub.status.busy": "2023-06-22T05:56:26.630895Z",
     "iopub.status.idle": "2023-06-22T05:56:27.486948Z",
     "shell.execute_reply": "2023-06-22T05:56:27.485567Z"
    },
    "papermill": {
     "duration": 0.878302,
     "end_time": "2023-06-22T05:56:27.490196",
     "exception": false,
     "start_time": "2023-06-22T05:56:26.611894",
     "status": "completed"
    },
    "tags": []
   },
   "outputs": [],
   "source": [
    "df = pd.read_csv(r'/kaggle/input/iit-admissions-dataset/student_data.csv' , index_col = 'Student Name')"
   ]
  },
  {
   "cell_type": "code",
   "execution_count": 4,
   "id": "4f6aa1d3",
   "metadata": {
    "execution": {
     "iopub.execute_input": "2023-06-22T05:56:27.527762Z",
     "iopub.status.busy": "2023-06-22T05:56:27.527241Z",
     "iopub.status.idle": "2023-06-22T05:56:27.560940Z",
     "shell.execute_reply": "2023-06-22T05:56:27.559954Z"
    },
    "papermill": {
     "duration": 0.056109,
     "end_time": "2023-06-22T05:56:27.564114",
     "exception": false,
     "start_time": "2023-06-22T05:56:27.508005",
     "status": "completed"
    },
    "tags": []
   },
   "outputs": [
    {
     "data": {
      "text/html": [
       "<div>\n",
       "<style scoped>\n",
       "    .dataframe tbody tr th:only-of-type {\n",
       "        vertical-align: middle;\n",
       "    }\n",
       "\n",
       "    .dataframe tbody tr th {\n",
       "        vertical-align: top;\n",
       "    }\n",
       "\n",
       "    .dataframe thead th {\n",
       "        text-align: right;\n",
       "    }\n",
       "</style>\n",
       "<table border=\"1\" class=\"dataframe\">\n",
       "  <thead>\n",
       "    <tr style=\"text-align: right;\">\n",
       "      <th></th>\n",
       "      <th>Student ID</th>\n",
       "      <th>Date of Birth</th>\n",
       "      <th>Field of Study</th>\n",
       "      <th>Year of Admission</th>\n",
       "      <th>Expected Year of Graduation</th>\n",
       "      <th>Current Semester</th>\n",
       "      <th>Specialization</th>\n",
       "      <th>Fees</th>\n",
       "      <th>Discount on Fees</th>\n",
       "    </tr>\n",
       "    <tr>\n",
       "      <th>Student Name</th>\n",
       "      <th></th>\n",
       "      <th></th>\n",
       "      <th></th>\n",
       "      <th></th>\n",
       "      <th></th>\n",
       "      <th></th>\n",
       "      <th></th>\n",
       "      <th></th>\n",
       "      <th></th>\n",
       "    </tr>\n",
       "  </thead>\n",
       "  <tbody>\n",
       "    <tr>\n",
       "      <th>Bryan Rogers</th>\n",
       "      <td>165527</td>\n",
       "      <td>2006-01-19</td>\n",
       "      <td>Computer Science</td>\n",
       "      <td>2020</td>\n",
       "      <td>2017</td>\n",
       "      <td>3</td>\n",
       "      <td>Web Development</td>\n",
       "      <td>155152</td>\n",
       "      <td>19572</td>\n",
       "    </tr>\n",
       "    <tr>\n",
       "      <th>James Hogan</th>\n",
       "      <td>635763</td>\n",
       "      <td>1999-05-23</td>\n",
       "      <td>Mechanical Engineering</td>\n",
       "      <td>2020</td>\n",
       "      <td>2020</td>\n",
       "      <td>2</td>\n",
       "      <td>Machine Learning</td>\n",
       "      <td>157870</td>\n",
       "      <td>14760</td>\n",
       "    </tr>\n",
       "    <tr>\n",
       "      <th>David Robinson</th>\n",
       "      <td>740021</td>\n",
       "      <td>1997-12-02</td>\n",
       "      <td>Civil Engineering</td>\n",
       "      <td>2017</td>\n",
       "      <td>2022</td>\n",
       "      <td>1</td>\n",
       "      <td>Network Security</td>\n",
       "      <td>55662</td>\n",
       "      <td>5871</td>\n",
       "    </tr>\n",
       "    <tr>\n",
       "      <th>Susan Miller</th>\n",
       "      <td>433076</td>\n",
       "      <td>1999-10-30</td>\n",
       "      <td>Computer Science</td>\n",
       "      <td>2021</td>\n",
       "      <td>2019</td>\n",
       "      <td>1</td>\n",
       "      <td>Data Science</td>\n",
       "      <td>134955</td>\n",
       "      <td>17284</td>\n",
       "    </tr>\n",
       "    <tr>\n",
       "      <th>Brittany Martin</th>\n",
       "      <td>441628</td>\n",
       "      <td>1998-01-10</td>\n",
       "      <td>Chemical Engineering</td>\n",
       "      <td>2016</td>\n",
       "      <td>2018</td>\n",
       "      <td>1</td>\n",
       "      <td>Network Security</td>\n",
       "      <td>125934</td>\n",
       "      <td>14871</td>\n",
       "    </tr>\n",
       "  </tbody>\n",
       "</table>\n",
       "</div>"
      ],
      "text/plain": [
       "                 Student ID Date of Birth          Field of Study  \\\n",
       "Student Name                                                        \n",
       "Bryan Rogers         165527    2006-01-19        Computer Science   \n",
       "James Hogan          635763    1999-05-23  Mechanical Engineering   \n",
       "David Robinson       740021    1997-12-02       Civil Engineering   \n",
       "Susan Miller         433076    1999-10-30        Computer Science   \n",
       "Brittany Martin      441628    1998-01-10    Chemical Engineering   \n",
       "\n",
       "                 Year of Admission  Expected Year of Graduation  \\\n",
       "Student Name                                                      \n",
       "Bryan Rogers                  2020                         2017   \n",
       "James Hogan                   2020                         2020   \n",
       "David Robinson                2017                         2022   \n",
       "Susan Miller                  2021                         2019   \n",
       "Brittany Martin               2016                         2018   \n",
       "\n",
       "                 Current Semester    Specialization    Fees  Discount on Fees  \n",
       "Student Name                                                                   \n",
       "Bryan Rogers                    3   Web Development  155152             19572  \n",
       "James Hogan                     2  Machine Learning  157870             14760  \n",
       "David Robinson                  1  Network Security   55662              5871  \n",
       "Susan Miller                    1      Data Science  134955             17284  \n",
       "Brittany Martin                 1  Network Security  125934             14871  "
      ]
     },
     "execution_count": 4,
     "metadata": {},
     "output_type": "execute_result"
    }
   ],
   "source": [
    "df.head()"
   ]
  },
  {
   "cell_type": "code",
   "execution_count": 5,
   "id": "cc017da1",
   "metadata": {
    "execution": {
     "iopub.execute_input": "2023-06-22T05:56:27.601920Z",
     "iopub.status.busy": "2023-06-22T05:56:27.601416Z",
     "iopub.status.idle": "2023-06-22T05:56:27.608211Z",
     "shell.execute_reply": "2023-06-22T05:56:27.607286Z"
    },
    "papermill": {
     "duration": 0.028559,
     "end_time": "2023-06-22T05:56:27.610531",
     "exception": false,
     "start_time": "2023-06-22T05:56:27.581972",
     "status": "completed"
    },
    "tags": []
   },
   "outputs": [
    {
     "data": {
      "text/plain": [
       "(200000, 9)"
      ]
     },
     "execution_count": 5,
     "metadata": {},
     "output_type": "execute_result"
    }
   ],
   "source": [
    "df.shape"
   ]
  },
  {
   "cell_type": "code",
   "execution_count": 6,
   "id": "f26569e7",
   "metadata": {
    "execution": {
     "iopub.execute_input": "2023-06-22T05:56:27.649754Z",
     "iopub.status.busy": "2023-06-22T05:56:27.649228Z",
     "iopub.status.idle": "2023-06-22T05:56:27.862978Z",
     "shell.execute_reply": "2023-06-22T05:56:27.861645Z"
    },
    "papermill": {
     "duration": 0.236754,
     "end_time": "2023-06-22T05:56:27.865671",
     "exception": false,
     "start_time": "2023-06-22T05:56:27.628917",
     "status": "completed"
    },
    "tags": []
   },
   "outputs": [
    {
     "name": "stdout",
     "output_type": "stream",
     "text": [
      "<class 'pandas.core.frame.DataFrame'>\n",
      "Index: 200000 entries, Bryan Rogers to Charles Marsh\n",
      "Data columns (total 9 columns):\n",
      " #   Column                       Non-Null Count   Dtype \n",
      "---  ------                       --------------   ----- \n",
      " 0   Student ID                   200000 non-null  int64 \n",
      " 1   Date of Birth                200000 non-null  object\n",
      " 2   Field of Study               200000 non-null  object\n",
      " 3   Year of Admission            200000 non-null  int64 \n",
      " 4   Expected Year of Graduation  200000 non-null  int64 \n",
      " 5   Current Semester             200000 non-null  int64 \n",
      " 6   Specialization               200000 non-null  object\n",
      " 7   Fees                         200000 non-null  int64 \n",
      " 8   Discount on Fees             200000 non-null  int64 \n",
      "dtypes: int64(6), object(3)\n",
      "memory usage: 15.3+ MB\n"
     ]
    }
   ],
   "source": [
    " df.info()"
   ]
  },
  {
   "cell_type": "code",
   "execution_count": 7,
   "id": "1f2e7a91",
   "metadata": {
    "execution": {
     "iopub.execute_input": "2023-06-22T05:56:27.904668Z",
     "iopub.status.busy": "2023-06-22T05:56:27.903444Z",
     "iopub.status.idle": "2023-06-22T05:56:27.981205Z",
     "shell.execute_reply": "2023-06-22T05:56:27.980044Z"
    },
    "papermill": {
     "duration": 0.100279,
     "end_time": "2023-06-22T05:56:27.984143",
     "exception": false,
     "start_time": "2023-06-22T05:56:27.883864",
     "status": "completed"
    },
    "tags": []
   },
   "outputs": [],
   "source": [
    "df['Date of Birth']= pd.to_datetime(df['Date of Birth'])"
   ]
  },
  {
   "cell_type": "code",
   "execution_count": 8,
   "id": "1e5b19ce",
   "metadata": {
    "execution": {
     "iopub.execute_input": "2023-06-22T05:56:28.023733Z",
     "iopub.status.busy": "2023-06-22T05:56:28.022723Z",
     "iopub.status.idle": "2023-06-22T05:56:28.037566Z",
     "shell.execute_reply": "2023-06-22T05:56:28.036537Z"
    },
    "papermill": {
     "duration": 0.037356,
     "end_time": "2023-06-22T05:56:28.040242",
     "exception": false,
     "start_time": "2023-06-22T05:56:28.002886",
     "status": "completed"
    },
    "tags": []
   },
   "outputs": [
    {
     "data": {
      "text/html": [
       "<div>\n",
       "<style scoped>\n",
       "    .dataframe tbody tr th:only-of-type {\n",
       "        vertical-align: middle;\n",
       "    }\n",
       "\n",
       "    .dataframe tbody tr th {\n",
       "        vertical-align: top;\n",
       "    }\n",
       "\n",
       "    .dataframe thead th {\n",
       "        text-align: right;\n",
       "    }\n",
       "</style>\n",
       "<table border=\"1\" class=\"dataframe\">\n",
       "  <thead>\n",
       "    <tr style=\"text-align: right;\">\n",
       "      <th></th>\n",
       "      <th>Student ID</th>\n",
       "      <th>Date of Birth</th>\n",
       "      <th>Field of Study</th>\n",
       "      <th>Year of Admission</th>\n",
       "      <th>Expected Year of Graduation</th>\n",
       "      <th>Current Semester</th>\n",
       "      <th>Specialization</th>\n",
       "      <th>Fees</th>\n",
       "      <th>Discount on Fees</th>\n",
       "    </tr>\n",
       "    <tr>\n",
       "      <th>Student Name</th>\n",
       "      <th></th>\n",
       "      <th></th>\n",
       "      <th></th>\n",
       "      <th></th>\n",
       "      <th></th>\n",
       "      <th></th>\n",
       "      <th></th>\n",
       "      <th></th>\n",
       "      <th></th>\n",
       "    </tr>\n",
       "  </thead>\n",
       "  <tbody>\n",
       "    <tr>\n",
       "      <th>Bryan Rogers</th>\n",
       "      <td>165527</td>\n",
       "      <td>2006-01-19</td>\n",
       "      <td>Computer Science</td>\n",
       "      <td>2020</td>\n",
       "      <td>2017</td>\n",
       "      <td>3</td>\n",
       "      <td>Web Development</td>\n",
       "      <td>155152</td>\n",
       "      <td>19572</td>\n",
       "    </tr>\n",
       "    <tr>\n",
       "      <th>James Hogan</th>\n",
       "      <td>635763</td>\n",
       "      <td>1999-05-23</td>\n",
       "      <td>Mechanical Engineering</td>\n",
       "      <td>2020</td>\n",
       "      <td>2020</td>\n",
       "      <td>2</td>\n",
       "      <td>Machine Learning</td>\n",
       "      <td>157870</td>\n",
       "      <td>14760</td>\n",
       "    </tr>\n",
       "    <tr>\n",
       "      <th>David Robinson</th>\n",
       "      <td>740021</td>\n",
       "      <td>1997-12-02</td>\n",
       "      <td>Civil Engineering</td>\n",
       "      <td>2017</td>\n",
       "      <td>2022</td>\n",
       "      <td>1</td>\n",
       "      <td>Network Security</td>\n",
       "      <td>55662</td>\n",
       "      <td>5871</td>\n",
       "    </tr>\n",
       "    <tr>\n",
       "      <th>Susan Miller</th>\n",
       "      <td>433076</td>\n",
       "      <td>1999-10-30</td>\n",
       "      <td>Computer Science</td>\n",
       "      <td>2021</td>\n",
       "      <td>2019</td>\n",
       "      <td>1</td>\n",
       "      <td>Data Science</td>\n",
       "      <td>134955</td>\n",
       "      <td>17284</td>\n",
       "    </tr>\n",
       "    <tr>\n",
       "      <th>Brittany Martin</th>\n",
       "      <td>441628</td>\n",
       "      <td>1998-01-10</td>\n",
       "      <td>Chemical Engineering</td>\n",
       "      <td>2016</td>\n",
       "      <td>2018</td>\n",
       "      <td>1</td>\n",
       "      <td>Network Security</td>\n",
       "      <td>125934</td>\n",
       "      <td>14871</td>\n",
       "    </tr>\n",
       "  </tbody>\n",
       "</table>\n",
       "</div>"
      ],
      "text/plain": [
       "                 Student ID Date of Birth          Field of Study  \\\n",
       "Student Name                                                        \n",
       "Bryan Rogers         165527    2006-01-19        Computer Science   \n",
       "James Hogan          635763    1999-05-23  Mechanical Engineering   \n",
       "David Robinson       740021    1997-12-02       Civil Engineering   \n",
       "Susan Miller         433076    1999-10-30        Computer Science   \n",
       "Brittany Martin      441628    1998-01-10    Chemical Engineering   \n",
       "\n",
       "                 Year of Admission  Expected Year of Graduation  \\\n",
       "Student Name                                                      \n",
       "Bryan Rogers                  2020                         2017   \n",
       "James Hogan                   2020                         2020   \n",
       "David Robinson                2017                         2022   \n",
       "Susan Miller                  2021                         2019   \n",
       "Brittany Martin               2016                         2018   \n",
       "\n",
       "                 Current Semester    Specialization    Fees  Discount on Fees  \n",
       "Student Name                                                                   \n",
       "Bryan Rogers                    3   Web Development  155152             19572  \n",
       "James Hogan                     2  Machine Learning  157870             14760  \n",
       "David Robinson                  1  Network Security   55662              5871  \n",
       "Susan Miller                    1      Data Science  134955             17284  \n",
       "Brittany Martin                 1  Network Security  125934             14871  "
      ]
     },
     "execution_count": 8,
     "metadata": {},
     "output_type": "execute_result"
    }
   ],
   "source": [
    "df.head()"
   ]
  },
  {
   "cell_type": "code",
   "execution_count": 9,
   "id": "4ccc42f6",
   "metadata": {
    "execution": {
     "iopub.execute_input": "2023-06-22T05:56:28.079344Z",
     "iopub.status.busy": "2023-06-22T05:56:28.078843Z",
     "iopub.status.idle": "2023-06-22T05:56:28.217438Z",
     "shell.execute_reply": "2023-06-22T05:56:28.216291Z"
    },
    "papermill": {
     "duration": 0.161446,
     "end_time": "2023-06-22T05:56:28.220247",
     "exception": false,
     "start_time": "2023-06-22T05:56:28.058801",
     "status": "completed"
    },
    "tags": []
   },
   "outputs": [
    {
     "name": "stdout",
     "output_type": "stream",
     "text": [
      "<class 'pandas.core.frame.DataFrame'>\n",
      "Index: 200000 entries, Bryan Rogers to Charles Marsh\n",
      "Data columns (total 9 columns):\n",
      " #   Column                       Non-Null Count   Dtype         \n",
      "---  ------                       --------------   -----         \n",
      " 0   Student ID                   200000 non-null  int64         \n",
      " 1   Date of Birth                200000 non-null  datetime64[ns]\n",
      " 2   Field of Study               200000 non-null  object        \n",
      " 3   Year of Admission            200000 non-null  int64         \n",
      " 4   Expected Year of Graduation  200000 non-null  int64         \n",
      " 5   Current Semester             200000 non-null  int64         \n",
      " 6   Specialization               200000 non-null  object        \n",
      " 7   Fees                         200000 non-null  int64         \n",
      " 8   Discount on Fees             200000 non-null  int64         \n",
      "dtypes: datetime64[ns](1), int64(6), object(2)\n",
      "memory usage: 15.3+ MB\n"
     ]
    }
   ],
   "source": [
    "df.info()"
   ]
  },
  {
   "cell_type": "code",
   "execution_count": 10,
   "id": "87ab4c91",
   "metadata": {
    "execution": {
     "iopub.execute_input": "2023-06-22T05:56:28.260174Z",
     "iopub.status.busy": "2023-06-22T05:56:28.259703Z",
     "iopub.status.idle": "2023-06-22T05:56:28.291831Z",
     "shell.execute_reply": "2023-06-22T05:56:28.290444Z"
    },
    "papermill": {
     "duration": 0.055907,
     "end_time": "2023-06-22T05:56:28.295095",
     "exception": false,
     "start_time": "2023-06-22T05:56:28.239188",
     "status": "completed"
    },
    "tags": []
   },
   "outputs": [],
   "source": [
    "df['year'] = pd.DatetimeIndex(df['Date of Birth']).year"
   ]
  },
  {
   "cell_type": "code",
   "execution_count": 11,
   "id": "dda619ae",
   "metadata": {
    "execution": {
     "iopub.execute_input": "2023-06-22T05:56:28.335488Z",
     "iopub.status.busy": "2023-06-22T05:56:28.335003Z",
     "iopub.status.idle": "2023-06-22T05:56:28.351996Z",
     "shell.execute_reply": "2023-06-22T05:56:28.350674Z"
    },
    "papermill": {
     "duration": 0.03951,
     "end_time": "2023-06-22T05:56:28.354413",
     "exception": false,
     "start_time": "2023-06-22T05:56:28.314903",
     "status": "completed"
    },
    "tags": []
   },
   "outputs": [
    {
     "data": {
      "text/html": [
       "<div>\n",
       "<style scoped>\n",
       "    .dataframe tbody tr th:only-of-type {\n",
       "        vertical-align: middle;\n",
       "    }\n",
       "\n",
       "    .dataframe tbody tr th {\n",
       "        vertical-align: top;\n",
       "    }\n",
       "\n",
       "    .dataframe thead th {\n",
       "        text-align: right;\n",
       "    }\n",
       "</style>\n",
       "<table border=\"1\" class=\"dataframe\">\n",
       "  <thead>\n",
       "    <tr style=\"text-align: right;\">\n",
       "      <th></th>\n",
       "      <th>Student ID</th>\n",
       "      <th>Date of Birth</th>\n",
       "      <th>Field of Study</th>\n",
       "      <th>Year of Admission</th>\n",
       "      <th>Expected Year of Graduation</th>\n",
       "      <th>Current Semester</th>\n",
       "      <th>Specialization</th>\n",
       "      <th>Fees</th>\n",
       "      <th>Discount on Fees</th>\n",
       "      <th>year</th>\n",
       "    </tr>\n",
       "    <tr>\n",
       "      <th>Student Name</th>\n",
       "      <th></th>\n",
       "      <th></th>\n",
       "      <th></th>\n",
       "      <th></th>\n",
       "      <th></th>\n",
       "      <th></th>\n",
       "      <th></th>\n",
       "      <th></th>\n",
       "      <th></th>\n",
       "      <th></th>\n",
       "    </tr>\n",
       "  </thead>\n",
       "  <tbody>\n",
       "    <tr>\n",
       "      <th>Bryan Rogers</th>\n",
       "      <td>165527</td>\n",
       "      <td>2006-01-19</td>\n",
       "      <td>Computer Science</td>\n",
       "      <td>2020</td>\n",
       "      <td>2017</td>\n",
       "      <td>3</td>\n",
       "      <td>Web Development</td>\n",
       "      <td>155152</td>\n",
       "      <td>19572</td>\n",
       "      <td>2006</td>\n",
       "    </tr>\n",
       "    <tr>\n",
       "      <th>James Hogan</th>\n",
       "      <td>635763</td>\n",
       "      <td>1999-05-23</td>\n",
       "      <td>Mechanical Engineering</td>\n",
       "      <td>2020</td>\n",
       "      <td>2020</td>\n",
       "      <td>2</td>\n",
       "      <td>Machine Learning</td>\n",
       "      <td>157870</td>\n",
       "      <td>14760</td>\n",
       "      <td>1999</td>\n",
       "    </tr>\n",
       "    <tr>\n",
       "      <th>David Robinson</th>\n",
       "      <td>740021</td>\n",
       "      <td>1997-12-02</td>\n",
       "      <td>Civil Engineering</td>\n",
       "      <td>2017</td>\n",
       "      <td>2022</td>\n",
       "      <td>1</td>\n",
       "      <td>Network Security</td>\n",
       "      <td>55662</td>\n",
       "      <td>5871</td>\n",
       "      <td>1997</td>\n",
       "    </tr>\n",
       "    <tr>\n",
       "      <th>Susan Miller</th>\n",
       "      <td>433076</td>\n",
       "      <td>1999-10-30</td>\n",
       "      <td>Computer Science</td>\n",
       "      <td>2021</td>\n",
       "      <td>2019</td>\n",
       "      <td>1</td>\n",
       "      <td>Data Science</td>\n",
       "      <td>134955</td>\n",
       "      <td>17284</td>\n",
       "      <td>1999</td>\n",
       "    </tr>\n",
       "    <tr>\n",
       "      <th>Brittany Martin</th>\n",
       "      <td>441628</td>\n",
       "      <td>1998-01-10</td>\n",
       "      <td>Chemical Engineering</td>\n",
       "      <td>2016</td>\n",
       "      <td>2018</td>\n",
       "      <td>1</td>\n",
       "      <td>Network Security</td>\n",
       "      <td>125934</td>\n",
       "      <td>14871</td>\n",
       "      <td>1998</td>\n",
       "    </tr>\n",
       "  </tbody>\n",
       "</table>\n",
       "</div>"
      ],
      "text/plain": [
       "                 Student ID Date of Birth          Field of Study  \\\n",
       "Student Name                                                        \n",
       "Bryan Rogers         165527    2006-01-19        Computer Science   \n",
       "James Hogan          635763    1999-05-23  Mechanical Engineering   \n",
       "David Robinson       740021    1997-12-02       Civil Engineering   \n",
       "Susan Miller         433076    1999-10-30        Computer Science   \n",
       "Brittany Martin      441628    1998-01-10    Chemical Engineering   \n",
       "\n",
       "                 Year of Admission  Expected Year of Graduation  \\\n",
       "Student Name                                                      \n",
       "Bryan Rogers                  2020                         2017   \n",
       "James Hogan                   2020                         2020   \n",
       "David Robinson                2017                         2022   \n",
       "Susan Miller                  2021                         2019   \n",
       "Brittany Martin               2016                         2018   \n",
       "\n",
       "                 Current Semester    Specialization    Fees  Discount on Fees  \\\n",
       "Student Name                                                                    \n",
       "Bryan Rogers                    3   Web Development  155152             19572   \n",
       "James Hogan                     2  Machine Learning  157870             14760   \n",
       "David Robinson                  1  Network Security   55662              5871   \n",
       "Susan Miller                    1      Data Science  134955             17284   \n",
       "Brittany Martin                 1  Network Security  125934             14871   \n",
       "\n",
       "                 year  \n",
       "Student Name           \n",
       "Bryan Rogers     2006  \n",
       "James Hogan      1999  \n",
       "David Robinson   1997  \n",
       "Susan Miller     1999  \n",
       "Brittany Martin  1998  "
      ]
     },
     "execution_count": 11,
     "metadata": {},
     "output_type": "execute_result"
    }
   ],
   "source": [
    "df.head()"
   ]
  },
  {
   "cell_type": "code",
   "execution_count": 12,
   "id": "d102096e",
   "metadata": {
    "execution": {
     "iopub.execute_input": "2023-06-22T05:56:28.393957Z",
     "iopub.status.busy": "2023-06-22T05:56:28.393473Z",
     "iopub.status.idle": "2023-06-22T05:56:28.407801Z",
     "shell.execute_reply": "2023-06-22T05:56:28.406733Z"
    },
    "papermill": {
     "duration": 0.037347,
     "end_time": "2023-06-22T05:56:28.410512",
     "exception": false,
     "start_time": "2023-06-22T05:56:28.373165",
     "status": "completed"
    },
    "tags": []
   },
   "outputs": [],
   "source": [
    "df = df.drop('Date of Birth' , axis = 1)"
   ]
  },
  {
   "cell_type": "code",
   "execution_count": 13,
   "id": "8255ee62",
   "metadata": {
    "execution": {
     "iopub.execute_input": "2023-06-22T05:56:28.450023Z",
     "iopub.status.busy": "2023-06-22T05:56:28.449529Z",
     "iopub.status.idle": "2023-06-22T05:56:28.456817Z",
     "shell.execute_reply": "2023-06-22T05:56:28.455656Z"
    },
    "papermill": {
     "duration": 0.030122,
     "end_time": "2023-06-22T05:56:28.459402",
     "exception": false,
     "start_time": "2023-06-22T05:56:28.429280",
     "status": "completed"
    },
    "tags": []
   },
   "outputs": [],
   "source": [
    "df['Age'] = 2023 - df['year']"
   ]
  },
  {
   "cell_type": "code",
   "execution_count": 14,
   "id": "14deecd3",
   "metadata": {
    "execution": {
     "iopub.execute_input": "2023-06-22T05:56:28.499056Z",
     "iopub.status.busy": "2023-06-22T05:56:28.498283Z",
     "iopub.status.idle": "2023-06-22T05:56:28.513610Z",
     "shell.execute_reply": "2023-06-22T05:56:28.512744Z"
    },
    "papermill": {
     "duration": 0.037504,
     "end_time": "2023-06-22T05:56:28.515805",
     "exception": false,
     "start_time": "2023-06-22T05:56:28.478301",
     "status": "completed"
    },
    "tags": []
   },
   "outputs": [
    {
     "data": {
      "text/html": [
       "<div>\n",
       "<style scoped>\n",
       "    .dataframe tbody tr th:only-of-type {\n",
       "        vertical-align: middle;\n",
       "    }\n",
       "\n",
       "    .dataframe tbody tr th {\n",
       "        vertical-align: top;\n",
       "    }\n",
       "\n",
       "    .dataframe thead th {\n",
       "        text-align: right;\n",
       "    }\n",
       "</style>\n",
       "<table border=\"1\" class=\"dataframe\">\n",
       "  <thead>\n",
       "    <tr style=\"text-align: right;\">\n",
       "      <th></th>\n",
       "      <th>Student ID</th>\n",
       "      <th>Field of Study</th>\n",
       "      <th>Year of Admission</th>\n",
       "      <th>Expected Year of Graduation</th>\n",
       "      <th>Current Semester</th>\n",
       "      <th>Specialization</th>\n",
       "      <th>Fees</th>\n",
       "      <th>Discount on Fees</th>\n",
       "      <th>year</th>\n",
       "      <th>Age</th>\n",
       "    </tr>\n",
       "    <tr>\n",
       "      <th>Student Name</th>\n",
       "      <th></th>\n",
       "      <th></th>\n",
       "      <th></th>\n",
       "      <th></th>\n",
       "      <th></th>\n",
       "      <th></th>\n",
       "      <th></th>\n",
       "      <th></th>\n",
       "      <th></th>\n",
       "      <th></th>\n",
       "    </tr>\n",
       "  </thead>\n",
       "  <tbody>\n",
       "    <tr>\n",
       "      <th>Bryan Rogers</th>\n",
       "      <td>165527</td>\n",
       "      <td>Computer Science</td>\n",
       "      <td>2020</td>\n",
       "      <td>2017</td>\n",
       "      <td>3</td>\n",
       "      <td>Web Development</td>\n",
       "      <td>155152</td>\n",
       "      <td>19572</td>\n",
       "      <td>2006</td>\n",
       "      <td>17</td>\n",
       "    </tr>\n",
       "    <tr>\n",
       "      <th>James Hogan</th>\n",
       "      <td>635763</td>\n",
       "      <td>Mechanical Engineering</td>\n",
       "      <td>2020</td>\n",
       "      <td>2020</td>\n",
       "      <td>2</td>\n",
       "      <td>Machine Learning</td>\n",
       "      <td>157870</td>\n",
       "      <td>14760</td>\n",
       "      <td>1999</td>\n",
       "      <td>24</td>\n",
       "    </tr>\n",
       "    <tr>\n",
       "      <th>David Robinson</th>\n",
       "      <td>740021</td>\n",
       "      <td>Civil Engineering</td>\n",
       "      <td>2017</td>\n",
       "      <td>2022</td>\n",
       "      <td>1</td>\n",
       "      <td>Network Security</td>\n",
       "      <td>55662</td>\n",
       "      <td>5871</td>\n",
       "      <td>1997</td>\n",
       "      <td>26</td>\n",
       "    </tr>\n",
       "    <tr>\n",
       "      <th>Susan Miller</th>\n",
       "      <td>433076</td>\n",
       "      <td>Computer Science</td>\n",
       "      <td>2021</td>\n",
       "      <td>2019</td>\n",
       "      <td>1</td>\n",
       "      <td>Data Science</td>\n",
       "      <td>134955</td>\n",
       "      <td>17284</td>\n",
       "      <td>1999</td>\n",
       "      <td>24</td>\n",
       "    </tr>\n",
       "    <tr>\n",
       "      <th>Brittany Martin</th>\n",
       "      <td>441628</td>\n",
       "      <td>Chemical Engineering</td>\n",
       "      <td>2016</td>\n",
       "      <td>2018</td>\n",
       "      <td>1</td>\n",
       "      <td>Network Security</td>\n",
       "      <td>125934</td>\n",
       "      <td>14871</td>\n",
       "      <td>1998</td>\n",
       "      <td>25</td>\n",
       "    </tr>\n",
       "  </tbody>\n",
       "</table>\n",
       "</div>"
      ],
      "text/plain": [
       "                 Student ID          Field of Study  Year of Admission  \\\n",
       "Student Name                                                             \n",
       "Bryan Rogers         165527        Computer Science               2020   \n",
       "James Hogan          635763  Mechanical Engineering               2020   \n",
       "David Robinson       740021       Civil Engineering               2017   \n",
       "Susan Miller         433076        Computer Science               2021   \n",
       "Brittany Martin      441628    Chemical Engineering               2016   \n",
       "\n",
       "                 Expected Year of Graduation  Current Semester  \\\n",
       "Student Name                                                     \n",
       "Bryan Rogers                            2017                 3   \n",
       "James Hogan                             2020                 2   \n",
       "David Robinson                          2022                 1   \n",
       "Susan Miller                            2019                 1   \n",
       "Brittany Martin                         2018                 1   \n",
       "\n",
       "                   Specialization    Fees  Discount on Fees  year  Age  \n",
       "Student Name                                                            \n",
       "Bryan Rogers      Web Development  155152             19572  2006   17  \n",
       "James Hogan      Machine Learning  157870             14760  1999   24  \n",
       "David Robinson   Network Security   55662              5871  1997   26  \n",
       "Susan Miller         Data Science  134955             17284  1999   24  \n",
       "Brittany Martin  Network Security  125934             14871  1998   25  "
      ]
     },
     "execution_count": 14,
     "metadata": {},
     "output_type": "execute_result"
    }
   ],
   "source": [
    "df.head()"
   ]
  },
  {
   "cell_type": "code",
   "execution_count": 15,
   "id": "c1dea63c",
   "metadata": {
    "execution": {
     "iopub.execute_input": "2023-06-22T05:56:28.557574Z",
     "iopub.status.busy": "2023-06-22T05:56:28.556773Z",
     "iopub.status.idle": "2023-06-22T05:56:28.571355Z",
     "shell.execute_reply": "2023-06-22T05:56:28.570109Z"
    },
    "papermill": {
     "duration": 0.038978,
     "end_time": "2023-06-22T05:56:28.574108",
     "exception": false,
     "start_time": "2023-06-22T05:56:28.535130",
     "status": "completed"
    },
    "tags": []
   },
   "outputs": [],
   "source": [
    "df = df.drop('year' , axis = 1)"
   ]
  },
  {
   "cell_type": "code",
   "execution_count": 16,
   "id": "11624a06",
   "metadata": {
    "execution": {
     "iopub.execute_input": "2023-06-22T05:56:28.614138Z",
     "iopub.status.busy": "2023-06-22T05:56:28.613671Z",
     "iopub.status.idle": "2023-06-22T05:56:28.628087Z",
     "shell.execute_reply": "2023-06-22T05:56:28.627250Z"
    },
    "papermill": {
     "duration": 0.037025,
     "end_time": "2023-06-22T05:56:28.630242",
     "exception": false,
     "start_time": "2023-06-22T05:56:28.593217",
     "status": "completed"
    },
    "tags": []
   },
   "outputs": [
    {
     "data": {
      "text/html": [
       "<div>\n",
       "<style scoped>\n",
       "    .dataframe tbody tr th:only-of-type {\n",
       "        vertical-align: middle;\n",
       "    }\n",
       "\n",
       "    .dataframe tbody tr th {\n",
       "        vertical-align: top;\n",
       "    }\n",
       "\n",
       "    .dataframe thead th {\n",
       "        text-align: right;\n",
       "    }\n",
       "</style>\n",
       "<table border=\"1\" class=\"dataframe\">\n",
       "  <thead>\n",
       "    <tr style=\"text-align: right;\">\n",
       "      <th></th>\n",
       "      <th>Student ID</th>\n",
       "      <th>Field of Study</th>\n",
       "      <th>Year of Admission</th>\n",
       "      <th>Expected Year of Graduation</th>\n",
       "      <th>Current Semester</th>\n",
       "      <th>Specialization</th>\n",
       "      <th>Fees</th>\n",
       "      <th>Discount on Fees</th>\n",
       "      <th>Age</th>\n",
       "    </tr>\n",
       "    <tr>\n",
       "      <th>Student Name</th>\n",
       "      <th></th>\n",
       "      <th></th>\n",
       "      <th></th>\n",
       "      <th></th>\n",
       "      <th></th>\n",
       "      <th></th>\n",
       "      <th></th>\n",
       "      <th></th>\n",
       "      <th></th>\n",
       "    </tr>\n",
       "  </thead>\n",
       "  <tbody>\n",
       "    <tr>\n",
       "      <th>Bryan Rogers</th>\n",
       "      <td>165527</td>\n",
       "      <td>Computer Science</td>\n",
       "      <td>2020</td>\n",
       "      <td>2017</td>\n",
       "      <td>3</td>\n",
       "      <td>Web Development</td>\n",
       "      <td>155152</td>\n",
       "      <td>19572</td>\n",
       "      <td>17</td>\n",
       "    </tr>\n",
       "    <tr>\n",
       "      <th>James Hogan</th>\n",
       "      <td>635763</td>\n",
       "      <td>Mechanical Engineering</td>\n",
       "      <td>2020</td>\n",
       "      <td>2020</td>\n",
       "      <td>2</td>\n",
       "      <td>Machine Learning</td>\n",
       "      <td>157870</td>\n",
       "      <td>14760</td>\n",
       "      <td>24</td>\n",
       "    </tr>\n",
       "    <tr>\n",
       "      <th>David Robinson</th>\n",
       "      <td>740021</td>\n",
       "      <td>Civil Engineering</td>\n",
       "      <td>2017</td>\n",
       "      <td>2022</td>\n",
       "      <td>1</td>\n",
       "      <td>Network Security</td>\n",
       "      <td>55662</td>\n",
       "      <td>5871</td>\n",
       "      <td>26</td>\n",
       "    </tr>\n",
       "    <tr>\n",
       "      <th>Susan Miller</th>\n",
       "      <td>433076</td>\n",
       "      <td>Computer Science</td>\n",
       "      <td>2021</td>\n",
       "      <td>2019</td>\n",
       "      <td>1</td>\n",
       "      <td>Data Science</td>\n",
       "      <td>134955</td>\n",
       "      <td>17284</td>\n",
       "      <td>24</td>\n",
       "    </tr>\n",
       "    <tr>\n",
       "      <th>Brittany Martin</th>\n",
       "      <td>441628</td>\n",
       "      <td>Chemical Engineering</td>\n",
       "      <td>2016</td>\n",
       "      <td>2018</td>\n",
       "      <td>1</td>\n",
       "      <td>Network Security</td>\n",
       "      <td>125934</td>\n",
       "      <td>14871</td>\n",
       "      <td>25</td>\n",
       "    </tr>\n",
       "  </tbody>\n",
       "</table>\n",
       "</div>"
      ],
      "text/plain": [
       "                 Student ID          Field of Study  Year of Admission  \\\n",
       "Student Name                                                             \n",
       "Bryan Rogers         165527        Computer Science               2020   \n",
       "James Hogan          635763  Mechanical Engineering               2020   \n",
       "David Robinson       740021       Civil Engineering               2017   \n",
       "Susan Miller         433076        Computer Science               2021   \n",
       "Brittany Martin      441628    Chemical Engineering               2016   \n",
       "\n",
       "                 Expected Year of Graduation  Current Semester  \\\n",
       "Student Name                                                     \n",
       "Bryan Rogers                            2017                 3   \n",
       "James Hogan                             2020                 2   \n",
       "David Robinson                          2022                 1   \n",
       "Susan Miller                            2019                 1   \n",
       "Brittany Martin                         2018                 1   \n",
       "\n",
       "                   Specialization    Fees  Discount on Fees  Age  \n",
       "Student Name                                                      \n",
       "Bryan Rogers      Web Development  155152             19572   17  \n",
       "James Hogan      Machine Learning  157870             14760   24  \n",
       "David Robinson   Network Security   55662              5871   26  \n",
       "Susan Miller         Data Science  134955             17284   24  \n",
       "Brittany Martin  Network Security  125934             14871   25  "
      ]
     },
     "execution_count": 16,
     "metadata": {},
     "output_type": "execute_result"
    }
   ],
   "source": [
    "df.head()"
   ]
  },
  {
   "cell_type": "code",
   "execution_count": 17,
   "id": "3b6f9ebf",
   "metadata": {
    "execution": {
     "iopub.execute_input": "2023-06-22T05:56:28.672352Z",
     "iopub.status.busy": "2023-06-22T05:56:28.671871Z",
     "iopub.status.idle": "2023-06-22T05:56:28.702180Z",
     "shell.execute_reply": "2023-06-22T05:56:28.700967Z"
    },
    "papermill": {
     "duration": 0.054932,
     "end_time": "2023-06-22T05:56:28.704607",
     "exception": false,
     "start_time": "2023-06-22T05:56:28.649675",
     "status": "completed"
    },
    "tags": []
   },
   "outputs": [
    {
     "data": {
      "text/plain": [
       "array(['Web Development', 'Machine Learning', 'Network Security',\n",
       "       'Data Science', 'Artificial Intelligence'], dtype=object)"
      ]
     },
     "execution_count": 17,
     "metadata": {},
     "output_type": "execute_result"
    }
   ],
   "source": [
    "df['Specialization'].unique()"
   ]
  },
  {
   "cell_type": "code",
   "execution_count": 18,
   "id": "2d145c04",
   "metadata": {
    "execution": {
     "iopub.execute_input": "2023-06-22T05:56:28.747733Z",
     "iopub.status.busy": "2023-06-22T05:56:28.747198Z",
     "iopub.status.idle": "2023-06-22T05:56:29.430182Z",
     "shell.execute_reply": "2023-06-22T05:56:29.428686Z"
    },
    "papermill": {
     "duration": 0.708375,
     "end_time": "2023-06-22T05:56:29.433361",
     "exception": false,
     "start_time": "2023-06-22T05:56:28.724986",
     "status": "completed"
    },
    "tags": []
   },
   "outputs": [
    {
     "data": {
      "image/png": "[encoded data removed]",
      "text/plain": [
       "<Figure size 640x480 with 1 Axes>"
      ]
     },
     "metadata": {},
     "output_type": "display_data"
    }
   ],
   "source": [
    "sns.countplot(data = df , x = 'Specialization')\n",
    "plt.xticks(rotation = 45);"
   ]
  },
  {
   "cell_type": "code",
   "execution_count": 19,
   "id": "b7f8d2c8",
   "metadata": {
    "execution": {
     "iopub.execute_input": "2023-06-22T05:56:29.476304Z",
     "iopub.status.busy": "2023-06-22T05:56:29.475809Z",
     "iopub.status.idle": "2023-06-22T05:56:29.486653Z",
     "shell.execute_reply": "2023-06-22T05:56:29.485522Z"
    },
    "papermill": {
     "duration": 0.035389,
     "end_time": "2023-06-22T05:56:29.489194",
     "exception": false,
     "start_time": "2023-06-22T05:56:29.453805",
     "status": "completed"
    },
    "tags": []
   },
   "outputs": [
    {
     "data": {
      "text/plain": [
       "array([3, 2, 1, 4])"
      ]
     },
     "execution_count": 19,
     "metadata": {},
     "output_type": "execute_result"
    }
   ],
   "source": [
    "df['Current Semester'].unique()"
   ]
  },
  {
   "cell_type": "code",
   "execution_count": 20,
   "id": "aa6be13c",
   "metadata": {
    "execution": {
     "iopub.execute_input": "2023-06-22T05:56:29.532343Z",
     "iopub.status.busy": "2023-06-22T05:56:29.531867Z",
     "iopub.status.idle": "2023-06-22T05:56:29.851896Z",
     "shell.execute_reply": "2023-06-22T05:56:29.850684Z"
    },
    "papermill": {
     "duration": 0.344604,
     "end_time": "2023-06-22T05:56:29.854453",
     "exception": false,
     "start_time": "2023-06-22T05:56:29.509849",
     "status": "completed"
    },
    "tags": []
   },
   "outputs": [
    {
     "data": {
      "text/plain": [
       "<Axes: xlabel='Current Semester', ylabel='count'>"
      ]
     },
     "execution_count": 20,
     "metadata": {},
     "output_type": "execute_result"
    },
    {
     "data": {
      "image/png": "[encoded data removed]",
      "text/plain": [
       "<Figure size 640x480 with 1 Axes>"
      ]
     },
     "metadata": {},
     "output_type": "display_data"
    }
   ],
   "source": [
    "sns.countplot(df ,x = 'Current Semester')"
   ]
  },
  {
   "cell_type": "code",
   "execution_count": 21,
   "id": "8389be63",
   "metadata": {
    "execution": {
     "iopub.execute_input": "2023-06-22T05:56:29.899116Z",
     "iopub.status.busy": "2023-06-22T05:56:29.898658Z",
     "iopub.status.idle": "2023-06-22T05:56:29.914736Z",
     "shell.execute_reply": "2023-06-22T05:56:29.913304Z"
    },
    "papermill": {
     "duration": 0.041482,
     "end_time": "2023-06-22T05:56:29.917401",
     "exception": false,
     "start_time": "2023-06-22T05:56:29.875919",
     "status": "completed"
    },
    "tags": []
   },
   "outputs": [
    {
     "data": {
      "text/html": [
       "<div>\n",
       "<style scoped>\n",
       "    .dataframe tbody tr th:only-of-type {\n",
       "        vertical-align: middle;\n",
       "    }\n",
       "\n",
       "    .dataframe tbody tr th {\n",
       "        vertical-align: top;\n",
       "    }\n",
       "\n",
       "    .dataframe thead th {\n",
       "        text-align: right;\n",
       "    }\n",
       "</style>\n",
       "<table border=\"1\" class=\"dataframe\">\n",
       "  <thead>\n",
       "    <tr style=\"text-align: right;\">\n",
       "      <th></th>\n",
       "      <th>Student ID</th>\n",
       "      <th>Field of Study</th>\n",
       "      <th>Year of Admission</th>\n",
       "      <th>Expected Year of Graduation</th>\n",
       "      <th>Current Semester</th>\n",
       "      <th>Specialization</th>\n",
       "      <th>Fees</th>\n",
       "      <th>Discount on Fees</th>\n",
       "      <th>Age</th>\n",
       "    </tr>\n",
       "    <tr>\n",
       "      <th>Student Name</th>\n",
       "      <th></th>\n",
       "      <th></th>\n",
       "      <th></th>\n",
       "      <th></th>\n",
       "      <th></th>\n",
       "      <th></th>\n",
       "      <th></th>\n",
       "      <th></th>\n",
       "      <th></th>\n",
       "    </tr>\n",
       "  </thead>\n",
       "  <tbody>\n",
       "    <tr>\n",
       "      <th>Bryan Rogers</th>\n",
       "      <td>165527</td>\n",
       "      <td>Computer Science</td>\n",
       "      <td>2020</td>\n",
       "      <td>2017</td>\n",
       "      <td>3</td>\n",
       "      <td>Web Development</td>\n",
       "      <td>155152</td>\n",
       "      <td>19572</td>\n",
       "      <td>17</td>\n",
       "    </tr>\n",
       "    <tr>\n",
       "      <th>James Hogan</th>\n",
       "      <td>635763</td>\n",
       "      <td>Mechanical Engineering</td>\n",
       "      <td>2020</td>\n",
       "      <td>2020</td>\n",
       "      <td>2</td>\n",
       "      <td>Machine Learning</td>\n",
       "      <td>157870</td>\n",
       "      <td>14760</td>\n",
       "      <td>24</td>\n",
       "    </tr>\n",
       "    <tr>\n",
       "      <th>David Robinson</th>\n",
       "      <td>740021</td>\n",
       "      <td>Civil Engineering</td>\n",
       "      <td>2017</td>\n",
       "      <td>2022</td>\n",
       "      <td>1</td>\n",
       "      <td>Network Security</td>\n",
       "      <td>55662</td>\n",
       "      <td>5871</td>\n",
       "      <td>26</td>\n",
       "    </tr>\n",
       "    <tr>\n",
       "      <th>Susan Miller</th>\n",
       "      <td>433076</td>\n",
       "      <td>Computer Science</td>\n",
       "      <td>2021</td>\n",
       "      <td>2019</td>\n",
       "      <td>1</td>\n",
       "      <td>Data Science</td>\n",
       "      <td>134955</td>\n",
       "      <td>17284</td>\n",
       "      <td>24</td>\n",
       "    </tr>\n",
       "    <tr>\n",
       "      <th>Brittany Martin</th>\n",
       "      <td>441628</td>\n",
       "      <td>Chemical Engineering</td>\n",
       "      <td>2016</td>\n",
       "      <td>2018</td>\n",
       "      <td>1</td>\n",
       "      <td>Network Security</td>\n",
       "      <td>125934</td>\n",
       "      <td>14871</td>\n",
       "      <td>25</td>\n",
       "    </tr>\n",
       "  </tbody>\n",
       "</table>\n",
       "</div>"
      ],
      "text/plain": [
       "                 Student ID          Field of Study  Year of Admission  \\\n",
       "Student Name                                                             \n",
       "Bryan Rogers         165527        Computer Science               2020   \n",
       "James Hogan          635763  Mechanical Engineering               2020   \n",
       "David Robinson       740021       Civil Engineering               2017   \n",
       "Susan Miller         433076        Computer Science               2021   \n",
       "Brittany Martin      441628    Chemical Engineering               2016   \n",
       "\n",
       "                 Expected Year of Graduation  Current Semester  \\\n",
       "Student Name                                                     \n",
       "Bryan Rogers                            2017                 3   \n",
       "James Hogan                             2020                 2   \n",
       "David Robinson                          2022                 1   \n",
       "Susan Miller                            2019                 1   \n",
       "Brittany Martin                         2018                 1   \n",
       "\n",
       "                   Specialization    Fees  Discount on Fees  Age  \n",
       "Student Name                                                      \n",
       "Bryan Rogers      Web Development  155152             19572   17  \n",
       "James Hogan      Machine Learning  157870             14760   24  \n",
       "David Robinson   Network Security   55662              5871   26  \n",
       "Susan Miller         Data Science  134955             17284   24  \n",
       "Brittany Martin  Network Security  125934             14871   25  "
      ]
     },
     "execution_count": 21,
     "metadata": {},
     "output_type": "execute_result"
    }
   ],
   "source": [
    "df.head()"
   ]
  },
  {
   "cell_type": "code",
   "execution_count": 22,
   "id": "6d7be34a",
   "metadata": {
    "execution": {
     "iopub.execute_input": "2023-06-22T05:56:29.963125Z",
     "iopub.status.busy": "2023-06-22T05:56:29.962650Z",
     "iopub.status.idle": "2023-06-22T05:56:30.062803Z",
     "shell.execute_reply": "2023-06-22T05:56:30.061712Z"
    },
    "papermill": {
     "duration": 0.126752,
     "end_time": "2023-06-22T05:56:30.065724",
     "exception": false,
     "start_time": "2023-06-22T05:56:29.938972",
     "status": "completed"
    },
    "tags": []
   },
   "outputs": [],
   "source": [
    "top_fees_payer= pd.DataFrame(df[['Fees','Field of Study' , 'Current Semester']].sort_values( ascending = False , by = 'Fees'))[0:10]"
   ]
  },
  {
   "cell_type": "code",
   "execution_count": 23,
   "id": "3fa0760a",
   "metadata": {
    "execution": {
     "iopub.execute_input": "2023-06-22T05:56:30.111455Z",
     "iopub.status.busy": "2023-06-22T05:56:30.110118Z",
     "iopub.status.idle": "2023-06-22T05:56:30.122710Z",
     "shell.execute_reply": "2023-06-22T05:56:30.121403Z"
    },
    "papermill": {
     "duration": 0.037766,
     "end_time": "2023-06-22T05:56:30.125089",
     "exception": false,
     "start_time": "2023-06-22T05:56:30.087323",
     "status": "completed"
    },
    "tags": []
   },
   "outputs": [
    {
     "data": {
      "text/html": [
       "<div>\n",
       "<style scoped>\n",
       "    .dataframe tbody tr th:only-of-type {\n",
       "        vertical-align: middle;\n",
       "    }\n",
       "\n",
       "    .dataframe tbody tr th {\n",
       "        vertical-align: top;\n",
       "    }\n",
       "\n",
       "    .dataframe thead th {\n",
       "        text-align: right;\n",
       "    }\n",
       "</style>\n",
       "<table border=\"1\" class=\"dataframe\">\n",
       "  <thead>\n",
       "    <tr style=\"text-align: right;\">\n",
       "      <th></th>\n",
       "      <th>Fees</th>\n",
       "      <th>Field of Study</th>\n",
       "      <th>Current Semester</th>\n",
       "    </tr>\n",
       "    <tr>\n",
       "      <th>Student Name</th>\n",
       "      <th></th>\n",
       "      <th></th>\n",
       "      <th></th>\n",
       "    </tr>\n",
       "  </thead>\n",
       "  <tbody>\n",
       "    <tr>\n",
       "      <th>Jonathan Simmons</th>\n",
       "      <td>200000</td>\n",
       "      <td>Electrical Engineering</td>\n",
       "      <td>3</td>\n",
       "    </tr>\n",
       "    <tr>\n",
       "      <th>Terry Mcneil</th>\n",
       "      <td>199999</td>\n",
       "      <td>Civil Engineering</td>\n",
       "      <td>3</td>\n",
       "    </tr>\n",
       "    <tr>\n",
       "      <th>Erica Anderson</th>\n",
       "      <td>199999</td>\n",
       "      <td>Chemical Engineering</td>\n",
       "      <td>3</td>\n",
       "    </tr>\n",
       "    <tr>\n",
       "      <th>Anthony Anderson</th>\n",
       "      <td>199999</td>\n",
       "      <td>Chemical Engineering</td>\n",
       "      <td>4</td>\n",
       "    </tr>\n",
       "    <tr>\n",
       "      <th>Julie Jones</th>\n",
       "      <td>199998</td>\n",
       "      <td>Civil Engineering</td>\n",
       "      <td>2</td>\n",
       "    </tr>\n",
       "    <tr>\n",
       "      <th>Jennifer Wright</th>\n",
       "      <td>199998</td>\n",
       "      <td>Electrical Engineering</td>\n",
       "      <td>4</td>\n",
       "    </tr>\n",
       "    <tr>\n",
       "      <th>Beth Thompson</th>\n",
       "      <td>199996</td>\n",
       "      <td>Electrical Engineering</td>\n",
       "      <td>4</td>\n",
       "    </tr>\n",
       "    <tr>\n",
       "      <th>Tanya Glass</th>\n",
       "      <td>199996</td>\n",
       "      <td>Civil Engineering</td>\n",
       "      <td>1</td>\n",
       "    </tr>\n",
       "    <tr>\n",
       "      <th>Alice Reed</th>\n",
       "      <td>199996</td>\n",
       "      <td>Mechanical Engineering</td>\n",
       "      <td>1</td>\n",
       "    </tr>\n",
       "    <tr>\n",
       "      <th>Anthony Cruz</th>\n",
       "      <td>199994</td>\n",
       "      <td>Computer Science</td>\n",
       "      <td>1</td>\n",
       "    </tr>\n",
       "  </tbody>\n",
       "</table>\n",
       "</div>"
      ],
      "text/plain": [
       "                    Fees          Field of Study  Current Semester\n",
       "Student Name                                                      \n",
       "Jonathan Simmons  200000  Electrical Engineering                 3\n",
       "Terry Mcneil      199999       Civil Engineering                 3\n",
       "Erica Anderson    199999    Chemical Engineering                 3\n",
       "Anthony Anderson  199999    Chemical Engineering                 4\n",
       "Julie Jones       199998       Civil Engineering                 2\n",
       "Jennifer Wright   199998  Electrical Engineering                 4\n",
       "Beth Thompson     199996  Electrical Engineering                 4\n",
       "Tanya Glass       199996       Civil Engineering                 1\n",
       "Alice Reed        199996  Mechanical Engineering                 1\n",
       "Anthony Cruz      199994        Computer Science                 1"
      ]
     },
     "execution_count": 23,
     "metadata": {},
     "output_type": "execute_result"
    }
   ],
   "source": [
    "top_fees_payer"
   ]
  },
  {
   "cell_type": "markdown",
   "id": "ba05f819",
   "metadata": {
    "papermill": {
     "duration": 0.021269,
     "end_time": "2023-06-22T05:56:30.168055",
     "exception": false,
     "start_time": "2023-06-22T05:56:30.146786",
     "status": "completed"
    },
    "tags": []
   },
   "source": [
    "# **top 10 fees payer from computer science background**"
   ]
  },
  {
   "cell_type": "code",
   "execution_count": 24,
   "id": "91240f57",
   "metadata": {
    "execution": {
     "iopub.execute_input": "2023-06-22T05:56:30.213913Z",
     "iopub.status.busy": "2023-06-22T05:56:30.213081Z",
     "iopub.status.idle": "2023-06-22T05:56:30.259487Z",
     "shell.execute_reply": "2023-06-22T05:56:30.258198Z"
    },
    "papermill": {
     "duration": 0.072976,
     "end_time": "2023-06-22T05:56:30.262906",
     "exception": false,
     "start_time": "2023-06-22T05:56:30.189930",
     "status": "completed"
    },
    "tags": []
   },
   "outputs": [],
   "source": [
    "comp_dataset = df[df['Field of Study']  ==  'Computer Science']"
   ]
  },
  {
   "cell_type": "code",
   "execution_count": 25,
   "id": "bbfddcb9",
   "metadata": {
    "execution": {
     "iopub.execute_input": "2023-06-22T05:56:30.308906Z",
     "iopub.status.busy": "2023-06-22T05:56:30.308379Z",
     "iopub.status.idle": "2023-06-22T05:56:30.324611Z",
     "shell.execute_reply": "2023-06-22T05:56:30.323328Z"
    },
    "papermill": {
     "duration": 0.042824,
     "end_time": "2023-06-22T05:56:30.327620",
     "exception": false,
     "start_time": "2023-06-22T05:56:30.284796",
     "status": "completed"
    },
    "tags": []
   },
   "outputs": [],
   "source": [
    "com_highest_payer = pd.DataFrame(comp_dataset['Fees'].sort_values(ascending = False))[0:10]"
   ]
  },
  {
   "cell_type": "code",
   "execution_count": 26,
   "id": "f107b069",
   "metadata": {
    "execution": {
     "iopub.execute_input": "2023-06-22T05:56:30.372837Z",
     "iopub.status.busy": "2023-06-22T05:56:30.372337Z",
     "iopub.status.idle": "2023-06-22T05:56:30.382715Z",
     "shell.execute_reply": "2023-06-22T05:56:30.381599Z"
    },
    "papermill": {
     "duration": 0.03624,
     "end_time": "2023-06-22T05:56:30.385373",
     "exception": false,
     "start_time": "2023-06-22T05:56:30.349133",
     "status": "completed"
    },
    "tags": []
   },
   "outputs": [
    {
     "data": {
      "text/html": [
       "<div>\n",
       "<style scoped>\n",
       "    .dataframe tbody tr th:only-of-type {\n",
       "        vertical-align: middle;\n",
       "    }\n",
       "\n",
       "    .dataframe tbody tr th {\n",
       "        vertical-align: top;\n",
       "    }\n",
       "\n",
       "    .dataframe thead th {\n",
       "        text-align: right;\n",
       "    }\n",
       "</style>\n",
       "<table border=\"1\" class=\"dataframe\">\n",
       "  <thead>\n",
       "    <tr style=\"text-align: right;\">\n",
       "      <th></th>\n",
       "      <th>Fees</th>\n",
       "    </tr>\n",
       "    <tr>\n",
       "      <th>Student Name</th>\n",
       "      <th></th>\n",
       "    </tr>\n",
       "  </thead>\n",
       "  <tbody>\n",
       "    <tr>\n",
       "      <th>Anthony Cruz</th>\n",
       "      <td>199994</td>\n",
       "    </tr>\n",
       "    <tr>\n",
       "      <th>Manuel Jackson</th>\n",
       "      <td>199992</td>\n",
       "    </tr>\n",
       "    <tr>\n",
       "      <th>Dawn Morris</th>\n",
       "      <td>199986</td>\n",
       "    </tr>\n",
       "    <tr>\n",
       "      <th>Wendy Martin</th>\n",
       "      <td>199985</td>\n",
       "    </tr>\n",
       "    <tr>\n",
       "      <th>Anthony Neal</th>\n",
       "      <td>199984</td>\n",
       "    </tr>\n",
       "    <tr>\n",
       "      <th>Thomas Ruiz</th>\n",
       "      <td>199983</td>\n",
       "    </tr>\n",
       "    <tr>\n",
       "      <th>Joseph Walker</th>\n",
       "      <td>199978</td>\n",
       "    </tr>\n",
       "    <tr>\n",
       "      <th>Jeffrey Thomas</th>\n",
       "      <td>199976</td>\n",
       "    </tr>\n",
       "    <tr>\n",
       "      <th>Rebecca Gonzalez</th>\n",
       "      <td>199972</td>\n",
       "    </tr>\n",
       "    <tr>\n",
       "      <th>Earl Delacruz</th>\n",
       "      <td>199970</td>\n",
       "    </tr>\n",
       "  </tbody>\n",
       "</table>\n",
       "</div>"
      ],
      "text/plain": [
       "                    Fees\n",
       "Student Name            \n",
       "Anthony Cruz      199994\n",
       "Manuel Jackson    199992\n",
       "Dawn Morris       199986\n",
       "Wendy Martin      199985\n",
       "Anthony Neal      199984\n",
       "Thomas Ruiz       199983\n",
       "Joseph Walker     199978\n",
       "Jeffrey Thomas    199976\n",
       "Rebecca Gonzalez  199972\n",
       "Earl Delacruz     199970"
      ]
     },
     "execution_count": 26,
     "metadata": {},
     "output_type": "execute_result"
    }
   ],
   "source": [
    "com_highest_payer"
   ]
  },
  {
   "cell_type": "code",
   "execution_count": 27,
   "id": "a8fff3a6",
   "metadata": {
    "execution": {
     "iopub.execute_input": "2023-06-22T05:56:30.431175Z",
     "iopub.status.busy": "2023-06-22T05:56:30.430726Z",
     "iopub.status.idle": "2023-06-22T05:56:30.461076Z",
     "shell.execute_reply": "2023-06-22T05:56:30.459772Z"
    },
    "papermill": {
     "duration": 0.056498,
     "end_time": "2023-06-22T05:56:30.463821",
     "exception": false,
     "start_time": "2023-06-22T05:56:30.407323",
     "status": "completed"
    },
    "tags": []
   },
   "outputs": [
    {
     "data": {
      "text/plain": [
       "array(['Computer Science', 'Mechanical Engineering', 'Civil Engineering',\n",
       "       'Chemical Engineering', 'Electrical Engineering'], dtype=object)"
      ]
     },
     "execution_count": 27,
     "metadata": {},
     "output_type": "execute_result"
    }
   ],
   "source": [
    "df['Field of Study'].unique()"
   ]
  },
  {
   "cell_type": "markdown",
   "id": "056aeeff",
   "metadata": {
    "papermill": {
     "duration": 0.021325,
     "end_time": "2023-06-22T05:56:30.507084",
     "exception": false,
     "start_time": "2023-06-22T05:56:30.485759",
     "status": "completed"
    },
    "tags": []
   },
   "source": [
    "# **top 10 peyer from mechanical engineering background**"
   ]
  },
  {
   "cell_type": "code",
   "execution_count": 28,
   "id": "2bcb497d",
   "metadata": {
    "execution": {
     "iopub.execute_input": "2023-06-22T05:56:30.553721Z",
     "iopub.status.busy": "2023-06-22T05:56:30.552484Z",
     "iopub.status.idle": "2023-06-22T05:56:30.601128Z",
     "shell.execute_reply": "2023-06-22T05:56:30.599676Z"
    },
    "papermill": {
     "duration": 0.075192,
     "end_time": "2023-06-22T05:56:30.604352",
     "exception": false,
     "start_time": "2023-06-22T05:56:30.529160",
     "status": "completed"
    },
    "tags": []
   },
   "outputs": [],
   "source": [
    "mech_dataset = df[df['Field of Study']  ==  'Mechanical Engineering']"
   ]
  },
  {
   "cell_type": "code",
   "execution_count": 29,
   "id": "2b0ea21b",
   "metadata": {
    "execution": {
     "iopub.execute_input": "2023-06-22T05:56:30.650395Z",
     "iopub.status.busy": "2023-06-22T05:56:30.649874Z",
     "iopub.status.idle": "2023-06-22T05:56:30.666466Z",
     "shell.execute_reply": "2023-06-22T05:56:30.665135Z"
    },
    "papermill": {
     "duration": 0.043077,
     "end_time": "2023-06-22T05:56:30.669384",
     "exception": false,
     "start_time": "2023-06-22T05:56:30.626307",
     "status": "completed"
    },
    "tags": []
   },
   "outputs": [],
   "source": [
    "mech_highest_payer = pd.DataFrame(mech_dataset['Fees'].sort_values(ascending = False))[0:10]"
   ]
  },
  {
   "cell_type": "code",
   "execution_count": 30,
   "id": "fa276a36",
   "metadata": {
    "execution": {
     "iopub.execute_input": "2023-06-22T05:56:30.715436Z",
     "iopub.status.busy": "2023-06-22T05:56:30.714949Z",
     "iopub.status.idle": "2023-06-22T05:56:30.725675Z",
     "shell.execute_reply": "2023-06-22T05:56:30.724282Z"
    },
    "papermill": {
     "duration": 0.036604,
     "end_time": "2023-06-22T05:56:30.728030",
     "exception": false,
     "start_time": "2023-06-22T05:56:30.691426",
     "status": "completed"
    },
    "tags": []
   },
   "outputs": [
    {
     "data": {
      "text/html": [
       "<div>\n",
       "<style scoped>\n",
       "    .dataframe tbody tr th:only-of-type {\n",
       "        vertical-align: middle;\n",
       "    }\n",
       "\n",
       "    .dataframe tbody tr th {\n",
       "        vertical-align: top;\n",
       "    }\n",
       "\n",
       "    .dataframe thead th {\n",
       "        text-align: right;\n",
       "    }\n",
       "</style>\n",
       "<table border=\"1\" class=\"dataframe\">\n",
       "  <thead>\n",
       "    <tr style=\"text-align: right;\">\n",
       "      <th></th>\n",
       "      <th>Fees</th>\n",
       "    </tr>\n",
       "    <tr>\n",
       "      <th>Student Name</th>\n",
       "      <th></th>\n",
       "    </tr>\n",
       "  </thead>\n",
       "  <tbody>\n",
       "    <tr>\n",
       "      <th>Alice Reed</th>\n",
       "      <td>199996</td>\n",
       "    </tr>\n",
       "    <tr>\n",
       "      <th>Catherine Pineda</th>\n",
       "      <td>199992</td>\n",
       "    </tr>\n",
       "    <tr>\n",
       "      <th>Michael Thompson</th>\n",
       "      <td>199987</td>\n",
       "    </tr>\n",
       "    <tr>\n",
       "      <th>Ruth Davis</th>\n",
       "      <td>199984</td>\n",
       "    </tr>\n",
       "    <tr>\n",
       "      <th>Stephen Hardin</th>\n",
       "      <td>199984</td>\n",
       "    </tr>\n",
       "    <tr>\n",
       "      <th>Tamara Hall</th>\n",
       "      <td>199982</td>\n",
       "    </tr>\n",
       "    <tr>\n",
       "      <th>Robert Diaz</th>\n",
       "      <td>199981</td>\n",
       "    </tr>\n",
       "    <tr>\n",
       "      <th>Olivia Jackson</th>\n",
       "      <td>199978</td>\n",
       "    </tr>\n",
       "    <tr>\n",
       "      <th>Lisa Baker</th>\n",
       "      <td>199975</td>\n",
       "    </tr>\n",
       "    <tr>\n",
       "      <th>Peter Harris</th>\n",
       "      <td>199975</td>\n",
       "    </tr>\n",
       "  </tbody>\n",
       "</table>\n",
       "</div>"
      ],
      "text/plain": [
       "                    Fees\n",
       "Student Name            \n",
       "Alice Reed        199996\n",
       "Catherine Pineda  199992\n",
       "Michael Thompson  199987\n",
       "Ruth Davis        199984\n",
       "Stephen Hardin    199984\n",
       "Tamara Hall       199982\n",
       "Robert Diaz       199981\n",
       "Olivia Jackson    199978\n",
       "Lisa Baker        199975\n",
       "Peter Harris      199975"
      ]
     },
     "execution_count": 30,
     "metadata": {},
     "output_type": "execute_result"
    }
   ],
   "source": [
    "mech_highest_payer"
   ]
  },
  {
   "cell_type": "markdown",
   "id": "832d75b8",
   "metadata": {
    "papermill": {
     "duration": 0.022284,
     "end_time": "2023-06-22T05:56:30.772542",
     "exception": false,
     "start_time": "2023-06-22T05:56:30.750258",
     "status": "completed"
    },
    "tags": []
   },
   "source": [
    "# **top 10 payer from civil engineering background**"
   ]
  },
  {
   "cell_type": "code",
   "execution_count": 31,
   "id": "1e991946",
   "metadata": {
    "execution": {
     "iopub.execute_input": "2023-06-22T05:56:30.819308Z",
     "iopub.status.busy": "2023-06-22T05:56:30.818182Z",
     "iopub.status.idle": "2023-06-22T05:56:30.868525Z",
     "shell.execute_reply": "2023-06-22T05:56:30.867391Z"
    },
    "papermill": {
     "duration": 0.076818,
     "end_time": "2023-06-22T05:56:30.871496",
     "exception": false,
     "start_time": "2023-06-22T05:56:30.794678",
     "status": "completed"
    },
    "tags": []
   },
   "outputs": [],
   "source": [
    "civil_dataset = df[df['Field of Study'] == 'Civil Engineering']"
   ]
  },
  {
   "cell_type": "code",
   "execution_count": 32,
   "id": "59eff78d",
   "metadata": {
    "execution": {
     "iopub.execute_input": "2023-06-22T05:56:30.918261Z",
     "iopub.status.busy": "2023-06-22T05:56:30.917763Z",
     "iopub.status.idle": "2023-06-22T05:56:30.934463Z",
     "shell.execute_reply": "2023-06-22T05:56:30.933227Z"
    },
    "papermill": {
     "duration": 0.043636,
     "end_time": "2023-06-22T05:56:30.937490",
     "exception": false,
     "start_time": "2023-06-22T05:56:30.893854",
     "status": "completed"
    },
    "tags": []
   },
   "outputs": [],
   "source": [
    "civil_heighst_pay = pd.DataFrame(civil_dataset['Fees'].sort_values(ascending = False))[0:10]"
   ]
  },
  {
   "cell_type": "code",
   "execution_count": 33,
   "id": "e615f7ae",
   "metadata": {
    "execution": {
     "iopub.execute_input": "2023-06-22T05:56:30.984870Z",
     "iopub.status.busy": "2023-06-22T05:56:30.984354Z",
     "iopub.status.idle": "2023-06-22T05:56:30.995284Z",
     "shell.execute_reply": "2023-06-22T05:56:30.994325Z"
    },
    "papermill": {
     "duration": 0.037462,
     "end_time": "2023-06-22T05:56:30.997503",
     "exception": false,
     "start_time": "2023-06-22T05:56:30.960041",
     "status": "completed"
    },
    "tags": []
   },
   "outputs": [
    {
     "data": {
      "text/html": [
       "<div>\n",
       "<style scoped>\n",
       "    .dataframe tbody tr th:only-of-type {\n",
       "        vertical-align: middle;\n",
       "    }\n",
       "\n",
       "    .dataframe tbody tr th {\n",
       "        vertical-align: top;\n",
       "    }\n",
       "\n",
       "    .dataframe thead th {\n",
       "        text-align: right;\n",
       "    }\n",
       "</style>\n",
       "<table border=\"1\" class=\"dataframe\">\n",
       "  <thead>\n",
       "    <tr style=\"text-align: right;\">\n",
       "      <th></th>\n",
       "      <th>Fees</th>\n",
       "    </tr>\n",
       "    <tr>\n",
       "      <th>Student Name</th>\n",
       "      <th></th>\n",
       "    </tr>\n",
       "  </thead>\n",
       "  <tbody>\n",
       "    <tr>\n",
       "      <th>Terry Mcneil</th>\n",
       "      <td>199999</td>\n",
       "    </tr>\n",
       "    <tr>\n",
       "      <th>Julie Jones</th>\n",
       "      <td>199998</td>\n",
       "    </tr>\n",
       "    <tr>\n",
       "      <th>Tanya Glass</th>\n",
       "      <td>199996</td>\n",
       "    </tr>\n",
       "    <tr>\n",
       "      <th>Scott Allen</th>\n",
       "      <td>199993</td>\n",
       "    </tr>\n",
       "    <tr>\n",
       "      <th>Sierra Green</th>\n",
       "      <td>199991</td>\n",
       "    </tr>\n",
       "    <tr>\n",
       "      <th>Jeffery Brewer</th>\n",
       "      <td>199990</td>\n",
       "    </tr>\n",
       "    <tr>\n",
       "      <th>David Porter</th>\n",
       "      <td>199983</td>\n",
       "    </tr>\n",
       "    <tr>\n",
       "      <th>Michael Dickson</th>\n",
       "      <td>199979</td>\n",
       "    </tr>\n",
       "    <tr>\n",
       "      <th>Adrian Rose</th>\n",
       "      <td>199978</td>\n",
       "    </tr>\n",
       "    <tr>\n",
       "      <th>Dana Alvarez</th>\n",
       "      <td>199974</td>\n",
       "    </tr>\n",
       "  </tbody>\n",
       "</table>\n",
       "</div>"
      ],
      "text/plain": [
       "                   Fees\n",
       "Student Name           \n",
       "Terry Mcneil     199999\n",
       "Julie Jones      199998\n",
       "Tanya Glass      199996\n",
       "Scott Allen      199993\n",
       "Sierra Green     199991\n",
       "Jeffery Brewer   199990\n",
       "David Porter     199983\n",
       "Michael Dickson  199979\n",
       "Adrian Rose      199978\n",
       "Dana Alvarez     199974"
      ]
     },
     "execution_count": 33,
     "metadata": {},
     "output_type": "execute_result"
    }
   ],
   "source": [
    "civil_heighst_pay"
   ]
  },
  {
   "cell_type": "markdown",
   "id": "393bebde",
   "metadata": {
    "papermill": {
     "duration": 0.022243,
     "end_time": "2023-06-22T05:56:31.042529",
     "exception": false,
     "start_time": "2023-06-22T05:56:31.020286",
     "status": "completed"
    },
    "tags": []
   },
   "source": [
    "# **top 10 payer from chemical engineering background**"
   ]
  },
  {
   "cell_type": "code",
   "execution_count": 34,
   "id": "35394f9f",
   "metadata": {
    "execution": {
     "iopub.execute_input": "2023-06-22T05:56:31.090285Z",
     "iopub.status.busy": "2023-06-22T05:56:31.089849Z",
     "iopub.status.idle": "2023-06-22T05:56:31.137066Z",
     "shell.execute_reply": "2023-06-22T05:56:31.135823Z"
    },
    "papermill": {
     "duration": 0.074161,
     "end_time": "2023-06-22T05:56:31.139690",
     "exception": false,
     "start_time": "2023-06-22T05:56:31.065529",
     "status": "completed"
    },
    "tags": []
   },
   "outputs": [],
   "source": [
    "chemical_dataset = df[df['Field of Study'] == 'Chemical Engineering']"
   ]
  },
  {
   "cell_type": "code",
   "execution_count": 35,
   "id": "48ee7710",
   "metadata": {
    "execution": {
     "iopub.execute_input": "2023-06-22T05:56:31.188752Z",
     "iopub.status.busy": "2023-06-22T05:56:31.187873Z",
     "iopub.status.idle": "2023-06-22T05:56:31.204810Z",
     "shell.execute_reply": "2023-06-22T05:56:31.203325Z"
    },
    "papermill": {
     "duration": 0.04466,
     "end_time": "2023-06-22T05:56:31.207915",
     "exception": false,
     "start_time": "2023-06-22T05:56:31.163255",
     "status": "completed"
    },
    "tags": []
   },
   "outputs": [],
   "source": [
    "chem_heighst_pay = pd.DataFrame(chemical_dataset['Fees'].sort_values(ascending = False))[0:10]"
   ]
  },
  {
   "cell_type": "code",
   "execution_count": 36,
   "id": "bc4f7272",
   "metadata": {
    "execution": {
     "iopub.execute_input": "2023-06-22T05:56:31.255090Z",
     "iopub.status.busy": "2023-06-22T05:56:31.254605Z",
     "iopub.status.idle": "2023-06-22T05:56:31.265424Z",
     "shell.execute_reply": "2023-06-22T05:56:31.264466Z"
    },
    "papermill": {
     "duration": 0.036977,
     "end_time": "2023-06-22T05:56:31.267637",
     "exception": false,
     "start_time": "2023-06-22T05:56:31.230660",
     "status": "completed"
    },
    "tags": []
   },
   "outputs": [
    {
     "data": {
      "text/html": [
       "<div>\n",
       "<style scoped>\n",
       "    .dataframe tbody tr th:only-of-type {\n",
       "        vertical-align: middle;\n",
       "    }\n",
       "\n",
       "    .dataframe tbody tr th {\n",
       "        vertical-align: top;\n",
       "    }\n",
       "\n",
       "    .dataframe thead th {\n",
       "        text-align: right;\n",
       "    }\n",
       "</style>\n",
       "<table border=\"1\" class=\"dataframe\">\n",
       "  <thead>\n",
       "    <tr style=\"text-align: right;\">\n",
       "      <th></th>\n",
       "      <th>Fees</th>\n",
       "    </tr>\n",
       "    <tr>\n",
       "      <th>Student Name</th>\n",
       "      <th></th>\n",
       "    </tr>\n",
       "  </thead>\n",
       "  <tbody>\n",
       "    <tr>\n",
       "      <th>Erica Anderson</th>\n",
       "      <td>199999</td>\n",
       "    </tr>\n",
       "    <tr>\n",
       "      <th>Anthony Anderson</th>\n",
       "      <td>199999</td>\n",
       "    </tr>\n",
       "    <tr>\n",
       "      <th>Kelli Melendez</th>\n",
       "      <td>199991</td>\n",
       "    </tr>\n",
       "    <tr>\n",
       "      <th>Sara Watts</th>\n",
       "      <td>199985</td>\n",
       "    </tr>\n",
       "    <tr>\n",
       "      <th>Ryan Roberts</th>\n",
       "      <td>199983</td>\n",
       "    </tr>\n",
       "    <tr>\n",
       "      <th>Tammy Marks</th>\n",
       "      <td>199972</td>\n",
       "    </tr>\n",
       "    <tr>\n",
       "      <th>Warren Crawford</th>\n",
       "      <td>199972</td>\n",
       "    </tr>\n",
       "    <tr>\n",
       "      <th>Heather Griffin</th>\n",
       "      <td>199970</td>\n",
       "    </tr>\n",
       "    <tr>\n",
       "      <th>Mikayla Johnson</th>\n",
       "      <td>199967</td>\n",
       "    </tr>\n",
       "    <tr>\n",
       "      <th>Jasmine Spencer</th>\n",
       "      <td>199967</td>\n",
       "    </tr>\n",
       "  </tbody>\n",
       "</table>\n",
       "</div>"
      ],
      "text/plain": [
       "                    Fees\n",
       "Student Name            \n",
       "Erica Anderson    199999\n",
       "Anthony Anderson  199999\n",
       "Kelli Melendez    199991\n",
       "Sara Watts        199985\n",
       "Ryan Roberts      199983\n",
       "Tammy Marks       199972\n",
       "Warren Crawford   199972\n",
       "Heather Griffin   199970\n",
       "Mikayla Johnson   199967\n",
       "Jasmine Spencer   199967"
      ]
     },
     "execution_count": 36,
     "metadata": {},
     "output_type": "execute_result"
    }
   ],
   "source": [
    "chem_heighst_pay"
   ]
  },
  {
   "cell_type": "code",
   "execution_count": null,
   "id": "f1aaced6",
   "metadata": {
    "papermill": {
     "duration": 0.022487,
     "end_time": "2023-06-22T05:56:31.313051",
     "exception": false,
     "start_time": "2023-06-22T05:56:31.290564",
     "status": "completed"
    },
    "tags": []
   },
   "outputs": [],
   "source": []
  },
  {
   "cell_type": "markdown",
   "id": "1d269c03",
   "metadata": {
    "papermill": {
     "duration": 0.022113,
     "end_time": "2023-06-22T05:56:31.357800",
     "exception": false,
     "start_time": "2023-06-22T05:56:31.335687",
     "status": "completed"
    },
    "tags": []
   },
   "source": [
    "# **top 10 heighest payer from electrical engineering background**"
   ]
  },
  {
   "cell_type": "code",
   "execution_count": 37,
   "id": "62ca6b5e",
   "metadata": {
    "execution": {
     "iopub.execute_input": "2023-06-22T05:56:31.405861Z",
     "iopub.status.busy": "2023-06-22T05:56:31.404519Z",
     "iopub.status.idle": "2023-06-22T05:56:31.455174Z",
     "shell.execute_reply": "2023-06-22T05:56:31.454019Z"
    },
    "papermill": {
     "duration": 0.077458,
     "end_time": "2023-06-22T05:56:31.457967",
     "exception": false,
     "start_time": "2023-06-22T05:56:31.380509",
     "status": "completed"
    },
    "tags": []
   },
   "outputs": [],
   "source": [
    "elc_dataset = df[df['Field of Study'] == 'Electrical Engineering']"
   ]
  },
  {
   "cell_type": "code",
   "execution_count": 38,
   "id": "e0d55da4",
   "metadata": {
    "execution": {
     "iopub.execute_input": "2023-06-22T05:56:31.505814Z",
     "iopub.status.busy": "2023-06-22T05:56:31.505298Z",
     "iopub.status.idle": "2023-06-22T05:56:31.523346Z",
     "shell.execute_reply": "2023-06-22T05:56:31.521820Z"
    },
    "papermill": {
     "duration": 0.045475,
     "end_time": "2023-06-22T05:56:31.526485",
     "exception": false,
     "start_time": "2023-06-22T05:56:31.481010",
     "status": "completed"
    },
    "tags": []
   },
   "outputs": [],
   "source": [
    "elc_heighst_pay = pd.DataFrame(elc_dataset['Fees'].sort_values(ascending = False))[0:10]"
   ]
  },
  {
   "cell_type": "code",
   "execution_count": 39,
   "id": "436b7e0e",
   "metadata": {
    "execution": {
     "iopub.execute_input": "2023-06-22T05:56:31.574449Z",
     "iopub.status.busy": "2023-06-22T05:56:31.573575Z",
     "iopub.status.idle": "2023-06-22T05:56:31.584020Z",
     "shell.execute_reply": "2023-06-22T05:56:31.582927Z"
    },
    "papermill": {
     "duration": 0.037073,
     "end_time": "2023-06-22T05:56:31.586400",
     "exception": false,
     "start_time": "2023-06-22T05:56:31.549327",
     "status": "completed"
    },
    "tags": []
   },
   "outputs": [
    {
     "data": {
      "text/html": [
       "<div>\n",
       "<style scoped>\n",
       "    .dataframe tbody tr th:only-of-type {\n",
       "        vertical-align: middle;\n",
       "    }\n",
       "\n",
       "    .dataframe tbody tr th {\n",
       "        vertical-align: top;\n",
       "    }\n",
       "\n",
       "    .dataframe thead th {\n",
       "        text-align: right;\n",
       "    }\n",
       "</style>\n",
       "<table border=\"1\" class=\"dataframe\">\n",
       "  <thead>\n",
       "    <tr style=\"text-align: right;\">\n",
       "      <th></th>\n",
       "      <th>Fees</th>\n",
       "    </tr>\n",
       "    <tr>\n",
       "      <th>Student Name</th>\n",
       "      <th></th>\n",
       "    </tr>\n",
       "  </thead>\n",
       "  <tbody>\n",
       "    <tr>\n",
       "      <th>Jonathan Simmons</th>\n",
       "      <td>200000</td>\n",
       "    </tr>\n",
       "    <tr>\n",
       "      <th>Jennifer Wright</th>\n",
       "      <td>199998</td>\n",
       "    </tr>\n",
       "    <tr>\n",
       "      <th>Beth Thompson</th>\n",
       "      <td>199996</td>\n",
       "    </tr>\n",
       "    <tr>\n",
       "      <th>Cheryl Bailey</th>\n",
       "      <td>199991</td>\n",
       "    </tr>\n",
       "    <tr>\n",
       "      <th>Thomas Townsend</th>\n",
       "      <td>199988</td>\n",
       "    </tr>\n",
       "    <tr>\n",
       "      <th>Joseph Zamora</th>\n",
       "      <td>199982</td>\n",
       "    </tr>\n",
       "    <tr>\n",
       "      <th>Ashley Jackson</th>\n",
       "      <td>199975</td>\n",
       "    </tr>\n",
       "    <tr>\n",
       "      <th>Anna Allen</th>\n",
       "      <td>199963</td>\n",
       "    </tr>\n",
       "    <tr>\n",
       "      <th>Tammy Cole</th>\n",
       "      <td>199962</td>\n",
       "    </tr>\n",
       "    <tr>\n",
       "      <th>William Mcneil</th>\n",
       "      <td>199958</td>\n",
       "    </tr>\n",
       "  </tbody>\n",
       "</table>\n",
       "</div>"
      ],
      "text/plain": [
       "                    Fees\n",
       "Student Name            \n",
       "Jonathan Simmons  200000\n",
       "Jennifer Wright   199998\n",
       "Beth Thompson     199996\n",
       "Cheryl Bailey     199991\n",
       "Thomas Townsend   199988\n",
       "Joseph Zamora     199982\n",
       "Ashley Jackson    199975\n",
       "Anna Allen        199963\n",
       "Tammy Cole        199962\n",
       "William Mcneil    199958"
      ]
     },
     "execution_count": 39,
     "metadata": {},
     "output_type": "execute_result"
    }
   ],
   "source": [
    "elc_heighst_pay"
   ]
  },
  {
   "cell_type": "code",
   "execution_count": 40,
   "id": "74e2941a",
   "metadata": {
    "execution": {
     "iopub.execute_input": "2023-06-22T05:56:31.634877Z",
     "iopub.status.busy": "2023-06-22T05:56:31.634369Z",
     "iopub.status.idle": "2023-06-22T05:56:31.649863Z",
     "shell.execute_reply": "2023-06-22T05:56:31.648629Z"
    },
    "papermill": {
     "duration": 0.04285,
     "end_time": "2023-06-22T05:56:31.652607",
     "exception": false,
     "start_time": "2023-06-22T05:56:31.609757",
     "status": "completed"
    },
    "tags": []
   },
   "outputs": [
    {
     "data": {
      "text/html": [
       "<div>\n",
       "<style scoped>\n",
       "    .dataframe tbody tr th:only-of-type {\n",
       "        vertical-align: middle;\n",
       "    }\n",
       "\n",
       "    .dataframe tbody tr th {\n",
       "        vertical-align: top;\n",
       "    }\n",
       "\n",
       "    .dataframe thead th {\n",
       "        text-align: right;\n",
       "    }\n",
       "</style>\n",
       "<table border=\"1\" class=\"dataframe\">\n",
       "  <thead>\n",
       "    <tr style=\"text-align: right;\">\n",
       "      <th></th>\n",
       "      <th>Student ID</th>\n",
       "      <th>Field of Study</th>\n",
       "      <th>Year of Admission</th>\n",
       "      <th>Expected Year of Graduation</th>\n",
       "      <th>Current Semester</th>\n",
       "      <th>Specialization</th>\n",
       "      <th>Fees</th>\n",
       "      <th>Discount on Fees</th>\n",
       "      <th>Age</th>\n",
       "    </tr>\n",
       "    <tr>\n",
       "      <th>Student Name</th>\n",
       "      <th></th>\n",
       "      <th></th>\n",
       "      <th></th>\n",
       "      <th></th>\n",
       "      <th></th>\n",
       "      <th></th>\n",
       "      <th></th>\n",
       "      <th></th>\n",
       "      <th></th>\n",
       "    </tr>\n",
       "  </thead>\n",
       "  <tbody>\n",
       "    <tr>\n",
       "      <th>Bryan Rogers</th>\n",
       "      <td>165527</td>\n",
       "      <td>Computer Science</td>\n",
       "      <td>2020</td>\n",
       "      <td>2017</td>\n",
       "      <td>3</td>\n",
       "      <td>Web Development</td>\n",
       "      <td>155152</td>\n",
       "      <td>19572</td>\n",
       "      <td>17</td>\n",
       "    </tr>\n",
       "    <tr>\n",
       "      <th>James Hogan</th>\n",
       "      <td>635763</td>\n",
       "      <td>Mechanical Engineering</td>\n",
       "      <td>2020</td>\n",
       "      <td>2020</td>\n",
       "      <td>2</td>\n",
       "      <td>Machine Learning</td>\n",
       "      <td>157870</td>\n",
       "      <td>14760</td>\n",
       "      <td>24</td>\n",
       "    </tr>\n",
       "    <tr>\n",
       "      <th>David Robinson</th>\n",
       "      <td>740021</td>\n",
       "      <td>Civil Engineering</td>\n",
       "      <td>2017</td>\n",
       "      <td>2022</td>\n",
       "      <td>1</td>\n",
       "      <td>Network Security</td>\n",
       "      <td>55662</td>\n",
       "      <td>5871</td>\n",
       "      <td>26</td>\n",
       "    </tr>\n",
       "    <tr>\n",
       "      <th>Susan Miller</th>\n",
       "      <td>433076</td>\n",
       "      <td>Computer Science</td>\n",
       "      <td>2021</td>\n",
       "      <td>2019</td>\n",
       "      <td>1</td>\n",
       "      <td>Data Science</td>\n",
       "      <td>134955</td>\n",
       "      <td>17284</td>\n",
       "      <td>24</td>\n",
       "    </tr>\n",
       "    <tr>\n",
       "      <th>Brittany Martin</th>\n",
       "      <td>441628</td>\n",
       "      <td>Chemical Engineering</td>\n",
       "      <td>2016</td>\n",
       "      <td>2018</td>\n",
       "      <td>1</td>\n",
       "      <td>Network Security</td>\n",
       "      <td>125934</td>\n",
       "      <td>14871</td>\n",
       "      <td>25</td>\n",
       "    </tr>\n",
       "  </tbody>\n",
       "</table>\n",
       "</div>"
      ],
      "text/plain": [
       "                 Student ID          Field of Study  Year of Admission  \\\n",
       "Student Name                                                             \n",
       "Bryan Rogers         165527        Computer Science               2020   \n",
       "James Hogan          635763  Mechanical Engineering               2020   \n",
       "David Robinson       740021       Civil Engineering               2017   \n",
       "Susan Miller         433076        Computer Science               2021   \n",
       "Brittany Martin      441628    Chemical Engineering               2016   \n",
       "\n",
       "                 Expected Year of Graduation  Current Semester  \\\n",
       "Student Name                                                     \n",
       "Bryan Rogers                            2017                 3   \n",
       "James Hogan                             2020                 2   \n",
       "David Robinson                          2022                 1   \n",
       "Susan Miller                            2019                 1   \n",
       "Brittany Martin                         2018                 1   \n",
       "\n",
       "                   Specialization    Fees  Discount on Fees  Age  \n",
       "Student Name                                                      \n",
       "Bryan Rogers      Web Development  155152             19572   17  \n",
       "James Hogan      Machine Learning  157870             14760   24  \n",
       "David Robinson   Network Security   55662              5871   26  \n",
       "Susan Miller         Data Science  134955             17284   24  \n",
       "Brittany Martin  Network Security  125934             14871   25  "
      ]
     },
     "execution_count": 40,
     "metadata": {},
     "output_type": "execute_result"
    }
   ],
   "source": [
    "df.head()"
   ]
  },
  {
   "cell_type": "code",
   "execution_count": 41,
   "id": "9c947acf",
   "metadata": {
    "execution": {
     "iopub.execute_input": "2023-06-22T05:56:31.703409Z",
     "iopub.status.busy": "2023-06-22T05:56:31.702905Z",
     "iopub.status.idle": "2023-06-22T05:56:31.712802Z",
     "shell.execute_reply": "2023-06-22T05:56:31.711612Z"
    },
    "papermill": {
     "duration": 0.039074,
     "end_time": "2023-06-22T05:56:31.715176",
     "exception": false,
     "start_time": "2023-06-22T05:56:31.676102",
     "status": "completed"
    },
    "tags": []
   },
   "outputs": [
    {
     "data": {
      "text/plain": [
       "array([2020, 2017, 2021, 2016, 2019, 2022, 2018])"
      ]
     },
     "execution_count": 41,
     "metadata": {},
     "output_type": "execute_result"
    }
   ],
   "source": [
    "df['Year of Admission'].unique()"
   ]
  },
  {
   "cell_type": "code",
   "execution_count": 42,
   "id": "8a9b1cdf",
   "metadata": {
    "execution": {
     "iopub.execute_input": "2023-06-22T05:56:31.765307Z",
     "iopub.status.busy": "2023-06-22T05:56:31.764823Z",
     "iopub.status.idle": "2023-06-22T05:56:32.131919Z",
     "shell.execute_reply": "2023-06-22T05:56:32.130715Z"
    },
    "papermill": {
     "duration": 0.395602,
     "end_time": "2023-06-22T05:56:32.134469",
     "exception": false,
     "start_time": "2023-06-22T05:56:31.738867",
     "status": "completed"
    },
    "tags": []
   },
   "outputs": [
    {
     "data": {
      "text/plain": [
       "<Axes: xlabel='Year of Admission', ylabel='count'>"
      ]
     },
     "execution_count": 42,
     "metadata": {},
     "output_type": "execute_result"
    },
    {
     "data": {
      "image/png": "[encoded data removed]",
      "text/plain": [
       "<Figure size 640x480 with 1 Axes>"
      ]
     },
     "metadata": {},
     "output_type": "display_data"
    }
   ],
   "source": [
    "sns.countplot(df , x = 'Year of Admission')"
   ]
  },
  {
   "cell_type": "code",
   "execution_count": 43,
   "id": "2e7d5768",
   "metadata": {
    "execution": {
     "iopub.execute_input": "2023-06-22T05:56:32.185008Z",
     "iopub.status.busy": "2023-06-22T05:56:32.184471Z",
     "iopub.status.idle": "2023-06-22T05:56:32.224089Z",
     "shell.execute_reply": "2023-06-22T05:56:32.222830Z"
    },
    "papermill": {
     "duration": 0.068089,
     "end_time": "2023-06-22T05:56:32.226478",
     "exception": false,
     "start_time": "2023-06-22T05:56:32.158389",
     "status": "completed"
    },
    "tags": []
   },
   "outputs": [],
   "source": [
    "spec_dataset = pd.DataFrame(df['Specialization'].value_counts())"
   ]
  },
  {
   "cell_type": "code",
   "execution_count": 44,
   "id": "b440e612",
   "metadata": {
    "execution": {
     "iopub.execute_input": "2023-06-22T05:56:32.278139Z",
     "iopub.status.busy": "2023-06-22T05:56:32.277655Z",
     "iopub.status.idle": "2023-06-22T05:56:32.288429Z",
     "shell.execute_reply": "2023-06-22T05:56:32.287211Z"
    },
    "papermill": {
     "duration": 0.03968,
     "end_time": "2023-06-22T05:56:32.290960",
     "exception": false,
     "start_time": "2023-06-22T05:56:32.251280",
     "status": "completed"
    },
    "tags": []
   },
   "outputs": [
    {
     "data": {
      "text/html": [
       "<div>\n",
       "<style scoped>\n",
       "    .dataframe tbody tr th:only-of-type {\n",
       "        vertical-align: middle;\n",
       "    }\n",
       "\n",
       "    .dataframe tbody tr th {\n",
       "        vertical-align: top;\n",
       "    }\n",
       "\n",
       "    .dataframe thead th {\n",
       "        text-align: right;\n",
       "    }\n",
       "</style>\n",
       "<table border=\"1\" class=\"dataframe\">\n",
       "  <thead>\n",
       "    <tr style=\"text-align: right;\">\n",
       "      <th></th>\n",
       "      <th>Specialization</th>\n",
       "    </tr>\n",
       "  </thead>\n",
       "  <tbody>\n",
       "    <tr>\n",
       "      <th>Web Development</th>\n",
       "      <td>40292</td>\n",
       "    </tr>\n",
       "    <tr>\n",
       "      <th>Machine Learning</th>\n",
       "      <td>40142</td>\n",
       "    </tr>\n",
       "    <tr>\n",
       "      <th>Network Security</th>\n",
       "      <td>39932</td>\n",
       "    </tr>\n",
       "    <tr>\n",
       "      <th>Data Science</th>\n",
       "      <td>39870</td>\n",
       "    </tr>\n",
       "    <tr>\n",
       "      <th>Artificial Intelligence</th>\n",
       "      <td>39764</td>\n",
       "    </tr>\n",
       "  </tbody>\n",
       "</table>\n",
       "</div>"
      ],
      "text/plain": [
       "                         Specialization\n",
       "Web Development                   40292\n",
       "Machine Learning                  40142\n",
       "Network Security                  39932\n",
       "Data Science                      39870\n",
       "Artificial Intelligence           39764"
      ]
     },
     "execution_count": 44,
     "metadata": {},
     "output_type": "execute_result"
    }
   ],
   "source": [
    "spec_dataset"
   ]
  },
  {
   "cell_type": "markdown",
   "id": "da76d5d6",
   "metadata": {
    "papermill": {
     "duration": 0.023803,
     "end_time": "2023-06-22T05:56:32.339110",
     "exception": false,
     "start_time": "2023-06-22T05:56:32.315307",
     "status": "completed"
    },
    "tags": []
   },
   "source": [
    "# **web devolopment and machine learning is the top selected course taken by students in iit**"
   ]
  },
  {
   "cell_type": "markdown",
   "id": "8f469c1c",
   "metadata": {
    "papermill": {
     "duration": 0.023947,
     "end_time": "2023-06-22T05:56:32.387296",
     "exception": false,
     "start_time": "2023-06-22T05:56:32.363349",
     "status": "completed"
    },
    "tags": []
   },
   "source": [
    "# **top 10 student who has got the heighst discount on fees**"
   ]
  },
  {
   "cell_type": "code",
   "execution_count": 45,
   "id": "627ab234",
   "metadata": {
    "execution": {
     "iopub.execute_input": "2023-06-22T05:56:32.438525Z",
     "iopub.status.busy": "2023-06-22T05:56:32.438064Z",
     "iopub.status.idle": "2023-06-22T05:56:32.527368Z",
     "shell.execute_reply": "2023-06-22T05:56:32.526221Z"
    },
    "papermill": {
     "duration": 0.118754,
     "end_time": "2023-06-22T05:56:32.530365",
     "exception": false,
     "start_time": "2023-06-22T05:56:32.411611",
     "status": "completed"
    },
    "tags": []
   },
   "outputs": [],
   "source": [
    "dis_dataset = pd.DataFrame(df[['Discount on Fees' , 'Field of Study' , 'Current Semester']].sort_values(ascending = False , by = 'Discount on Fees')[0:10])"
   ]
  },
  {
   "cell_type": "code",
   "execution_count": 46,
   "id": "c488e8db",
   "metadata": {
    "execution": {
     "iopub.execute_input": "2023-06-22T05:56:32.581516Z",
     "iopub.status.busy": "2023-06-22T05:56:32.581061Z",
     "iopub.status.idle": "2023-06-22T05:56:32.593932Z",
     "shell.execute_reply": "2023-06-22T05:56:32.592693Z"
    },
    "papermill": {
     "duration": 0.041525,
     "end_time": "2023-06-22T05:56:32.596383",
     "exception": false,
     "start_time": "2023-06-22T05:56:32.554858",
     "status": "completed"
    },
    "tags": []
   },
   "outputs": [
    {
     "data": {
      "text/html": [
       "<div>\n",
       "<style scoped>\n",
       "    .dataframe tbody tr th:only-of-type {\n",
       "        vertical-align: middle;\n",
       "    }\n",
       "\n",
       "    .dataframe tbody tr th {\n",
       "        vertical-align: top;\n",
       "    }\n",
       "\n",
       "    .dataframe thead th {\n",
       "        text-align: right;\n",
       "    }\n",
       "</style>\n",
       "<table border=\"1\" class=\"dataframe\">\n",
       "  <thead>\n",
       "    <tr style=\"text-align: right;\">\n",
       "      <th></th>\n",
       "      <th>Discount on Fees</th>\n",
       "      <th>Field of Study</th>\n",
       "      <th>Current Semester</th>\n",
       "    </tr>\n",
       "    <tr>\n",
       "      <th>Student Name</th>\n",
       "      <th></th>\n",
       "      <th></th>\n",
       "      <th></th>\n",
       "    </tr>\n",
       "  </thead>\n",
       "  <tbody>\n",
       "    <tr>\n",
       "      <th>Jeffrey Walker</th>\n",
       "      <td>39865</td>\n",
       "      <td>Computer Science</td>\n",
       "      <td>4</td>\n",
       "    </tr>\n",
       "    <tr>\n",
       "      <th>Patricia Vasquez</th>\n",
       "      <td>39746</td>\n",
       "      <td>Mechanical Engineering</td>\n",
       "      <td>1</td>\n",
       "    </tr>\n",
       "    <tr>\n",
       "      <th>Jeremy Neal</th>\n",
       "      <td>39736</td>\n",
       "      <td>Computer Science</td>\n",
       "      <td>4</td>\n",
       "    </tr>\n",
       "    <tr>\n",
       "      <th>Jason Townsend</th>\n",
       "      <td>39722</td>\n",
       "      <td>Civil Engineering</td>\n",
       "      <td>1</td>\n",
       "    </tr>\n",
       "    <tr>\n",
       "      <th>Kimberly Griffin</th>\n",
       "      <td>39715</td>\n",
       "      <td>Chemical Engineering</td>\n",
       "      <td>1</td>\n",
       "    </tr>\n",
       "    <tr>\n",
       "      <th>Matthew Lewis</th>\n",
       "      <td>39715</td>\n",
       "      <td>Civil Engineering</td>\n",
       "      <td>2</td>\n",
       "    </tr>\n",
       "    <tr>\n",
       "      <th>Timothy Rivera</th>\n",
       "      <td>39702</td>\n",
       "      <td>Computer Science</td>\n",
       "      <td>1</td>\n",
       "    </tr>\n",
       "    <tr>\n",
       "      <th>James Foster</th>\n",
       "      <td>39662</td>\n",
       "      <td>Civil Engineering</td>\n",
       "      <td>4</td>\n",
       "    </tr>\n",
       "    <tr>\n",
       "      <th>Daniel Curtis</th>\n",
       "      <td>39659</td>\n",
       "      <td>Electrical Engineering</td>\n",
       "      <td>4</td>\n",
       "    </tr>\n",
       "    <tr>\n",
       "      <th>Veronica West</th>\n",
       "      <td>39622</td>\n",
       "      <td>Civil Engineering</td>\n",
       "      <td>3</td>\n",
       "    </tr>\n",
       "  </tbody>\n",
       "</table>\n",
       "</div>"
      ],
      "text/plain": [
       "                  Discount on Fees          Field of Study  Current Semester\n",
       "Student Name                                                                \n",
       "Jeffrey Walker               39865        Computer Science                 4\n",
       "Patricia Vasquez             39746  Mechanical Engineering                 1\n",
       "Jeremy Neal                  39736        Computer Science                 4\n",
       "Jason Townsend               39722       Civil Engineering                 1\n",
       "Kimberly Griffin             39715    Chemical Engineering                 1\n",
       "Matthew Lewis                39715       Civil Engineering                 2\n",
       "Timothy Rivera               39702        Computer Science                 1\n",
       "James Foster                 39662       Civil Engineering                 4\n",
       "Daniel Curtis                39659  Electrical Engineering                 4\n",
       "Veronica West                39622       Civil Engineering                 3"
      ]
     },
     "execution_count": 46,
     "metadata": {},
     "output_type": "execute_result"
    }
   ],
   "source": [
    "dis_dataset"
   ]
  },
  {
   "cell_type": "code",
   "execution_count": 47,
   "id": "26120911",
   "metadata": {
    "execution": {
     "iopub.execute_input": "2023-06-22T05:56:32.647604Z",
     "iopub.status.busy": "2023-06-22T05:56:32.647106Z",
     "iopub.status.idle": "2023-06-22T05:56:32.662972Z",
     "shell.execute_reply": "2023-06-22T05:56:32.661613Z"
    },
    "papermill": {
     "duration": 0.04426,
     "end_time": "2023-06-22T05:56:32.665344",
     "exception": false,
     "start_time": "2023-06-22T05:56:32.621084",
     "status": "completed"
    },
    "tags": []
   },
   "outputs": [
    {
     "data": {
      "text/html": [
       "<div>\n",
       "<style scoped>\n",
       "    .dataframe tbody tr th:only-of-type {\n",
       "        vertical-align: middle;\n",
       "    }\n",
       "\n",
       "    .dataframe tbody tr th {\n",
       "        vertical-align: top;\n",
       "    }\n",
       "\n",
       "    .dataframe thead th {\n",
       "        text-align: right;\n",
       "    }\n",
       "</style>\n",
       "<table border=\"1\" class=\"dataframe\">\n",
       "  <thead>\n",
       "    <tr style=\"text-align: right;\">\n",
       "      <th></th>\n",
       "      <th>Student ID</th>\n",
       "      <th>Field of Study</th>\n",
       "      <th>Year of Admission</th>\n",
       "      <th>Expected Year of Graduation</th>\n",
       "      <th>Current Semester</th>\n",
       "      <th>Specialization</th>\n",
       "      <th>Fees</th>\n",
       "      <th>Discount on Fees</th>\n",
       "      <th>Age</th>\n",
       "    </tr>\n",
       "    <tr>\n",
       "      <th>Student Name</th>\n",
       "      <th></th>\n",
       "      <th></th>\n",
       "      <th></th>\n",
       "      <th></th>\n",
       "      <th></th>\n",
       "      <th></th>\n",
       "      <th></th>\n",
       "      <th></th>\n",
       "      <th></th>\n",
       "    </tr>\n",
       "  </thead>\n",
       "  <tbody>\n",
       "    <tr>\n",
       "      <th>Bryan Rogers</th>\n",
       "      <td>165527</td>\n",
       "      <td>Computer Science</td>\n",
       "      <td>2020</td>\n",
       "      <td>2017</td>\n",
       "      <td>3</td>\n",
       "      <td>Web Development</td>\n",
       "      <td>155152</td>\n",
       "      <td>19572</td>\n",
       "      <td>17</td>\n",
       "    </tr>\n",
       "    <tr>\n",
       "      <th>James Hogan</th>\n",
       "      <td>635763</td>\n",
       "      <td>Mechanical Engineering</td>\n",
       "      <td>2020</td>\n",
       "      <td>2020</td>\n",
       "      <td>2</td>\n",
       "      <td>Machine Learning</td>\n",
       "      <td>157870</td>\n",
       "      <td>14760</td>\n",
       "      <td>24</td>\n",
       "    </tr>\n",
       "    <tr>\n",
       "      <th>David Robinson</th>\n",
       "      <td>740021</td>\n",
       "      <td>Civil Engineering</td>\n",
       "      <td>2017</td>\n",
       "      <td>2022</td>\n",
       "      <td>1</td>\n",
       "      <td>Network Security</td>\n",
       "      <td>55662</td>\n",
       "      <td>5871</td>\n",
       "      <td>26</td>\n",
       "    </tr>\n",
       "    <tr>\n",
       "      <th>Susan Miller</th>\n",
       "      <td>433076</td>\n",
       "      <td>Computer Science</td>\n",
       "      <td>2021</td>\n",
       "      <td>2019</td>\n",
       "      <td>1</td>\n",
       "      <td>Data Science</td>\n",
       "      <td>134955</td>\n",
       "      <td>17284</td>\n",
       "      <td>24</td>\n",
       "    </tr>\n",
       "    <tr>\n",
       "      <th>Brittany Martin</th>\n",
       "      <td>441628</td>\n",
       "      <td>Chemical Engineering</td>\n",
       "      <td>2016</td>\n",
       "      <td>2018</td>\n",
       "      <td>1</td>\n",
       "      <td>Network Security</td>\n",
       "      <td>125934</td>\n",
       "      <td>14871</td>\n",
       "      <td>25</td>\n",
       "    </tr>\n",
       "  </tbody>\n",
       "</table>\n",
       "</div>"
      ],
      "text/plain": [
       "                 Student ID          Field of Study  Year of Admission  \\\n",
       "Student Name                                                             \n",
       "Bryan Rogers         165527        Computer Science               2020   \n",
       "James Hogan          635763  Mechanical Engineering               2020   \n",
       "David Robinson       740021       Civil Engineering               2017   \n",
       "Susan Miller         433076        Computer Science               2021   \n",
       "Brittany Martin      441628    Chemical Engineering               2016   \n",
       "\n",
       "                 Expected Year of Graduation  Current Semester  \\\n",
       "Student Name                                                     \n",
       "Bryan Rogers                            2017                 3   \n",
       "James Hogan                             2020                 2   \n",
       "David Robinson                          2022                 1   \n",
       "Susan Miller                            2019                 1   \n",
       "Brittany Martin                         2018                 1   \n",
       "\n",
       "                   Specialization    Fees  Discount on Fees  Age  \n",
       "Student Name                                                      \n",
       "Bryan Rogers      Web Development  155152             19572   17  \n",
       "James Hogan      Machine Learning  157870             14760   24  \n",
       "David Robinson   Network Security   55662              5871   26  \n",
       "Susan Miller         Data Science  134955             17284   24  \n",
       "Brittany Martin  Network Security  125934             14871   25  "
      ]
     },
     "execution_count": 47,
     "metadata": {},
     "output_type": "execute_result"
    }
   ],
   "source": [
    "df.head()"
   ]
  },
  {
   "cell_type": "code",
   "execution_count": 48,
   "id": "9a268431",
   "metadata": {
    "execution": {
     "iopub.execute_input": "2023-06-22T05:56:32.717172Z",
     "iopub.status.busy": "2023-06-22T05:56:32.716651Z",
     "iopub.status.idle": "2023-06-22T05:56:32.725720Z",
     "shell.execute_reply": "2023-06-22T05:56:32.724667Z"
    },
    "papermill": {
     "duration": 0.037914,
     "end_time": "2023-06-22T05:56:32.728299",
     "exception": false,
     "start_time": "2023-06-22T05:56:32.690385",
     "status": "completed"
    },
    "tags": []
   },
   "outputs": [
    {
     "data": {
      "text/plain": [
       "array([17, 24, 26, 25, 20, 19, 22, 21, 23, 18])"
      ]
     },
     "execution_count": 48,
     "metadata": {},
     "output_type": "execute_result"
    }
   ],
   "source": [
    "df['Age'].unique()"
   ]
  },
  {
   "cell_type": "code",
   "execution_count": 49,
   "id": "a383c075",
   "metadata": {
    "execution": {
     "iopub.execute_input": "2023-06-22T05:56:32.781198Z",
     "iopub.status.busy": "2023-06-22T05:56:32.780268Z",
     "iopub.status.idle": "2023-06-22T05:56:33.152782Z",
     "shell.execute_reply": "2023-06-22T05:56:33.151470Z"
    },
    "papermill": {
     "duration": 0.402323,
     "end_time": "2023-06-22T05:56:33.155560",
     "exception": false,
     "start_time": "2023-06-22T05:56:32.753237",
     "status": "completed"
    },
    "tags": []
   },
   "outputs": [
    {
     "data": {
      "text/plain": [
       "<Axes: xlabel='Age', ylabel='count'>"
      ]
     },
     "execution_count": 49,
     "metadata": {},
     "output_type": "execute_result"
    },
    {
     "data": {
      "image/png": "[encoded data removed]",
      "text/plain": [
       "<Figure size 640x480 with 1 Axes>"
      ]
     },
     "metadata": {},
     "output_type": "display_data"
    }
   ],
   "source": [
    "sns.countplot(df , x = 'Age')"
   ]
  },
  {
   "cell_type": "markdown",
   "id": "cf12755c",
   "metadata": {
    "papermill": {
     "duration": 0.024869,
     "end_time": "2023-06-22T05:56:33.206845",
     "exception": false,
     "start_time": "2023-06-22T05:56:33.181976",
     "status": "completed"
    },
    "tags": []
   },
   "source": [
    "# **sem wise avg age of student** "
   ]
  },
  {
   "cell_type": "code",
   "execution_count": 50,
   "id": "a7ef5502",
   "metadata": {
    "execution": {
     "iopub.execute_input": "2023-06-22T05:56:33.259766Z",
     "iopub.status.busy": "2023-06-22T05:56:33.259259Z",
     "iopub.status.idle": "2023-06-22T05:56:33.277123Z",
     "shell.execute_reply": "2023-06-22T05:56:33.275896Z"
    },
    "papermill": {
     "duration": 0.047524,
     "end_time": "2023-06-22T05:56:33.279779",
     "exception": false,
     "start_time": "2023-06-22T05:56:33.232255",
     "status": "completed"
    },
    "tags": []
   },
   "outputs": [
    {
     "data": {
      "text/plain": [
       "Current Semester\n",
       "1    21.567992\n",
       "2    21.585536\n",
       "3    21.578127\n",
       "4    21.599547\n",
       "Name: Age, dtype: float64"
      ]
     },
     "execution_count": 50,
     "metadata": {},
     "output_type": "execute_result"
    }
   ],
   "source": [
    "df.groupby('Current Semester')['Age'].mean()"
   ]
  },
  {
   "cell_type": "markdown",
   "id": "bdd4004c",
   "metadata": {
    "papermill": {
     "duration": 0.025047,
     "end_time": "2023-06-22T05:56:33.330344",
     "exception": false,
     "start_time": "2023-06-22T05:56:33.305297",
     "status": "completed"
    },
    "tags": []
   },
   "source": [
    "****it is more or less same avg age was showing****"
   ]
  }
 ],
 "metadata": {
  "kernelspec": {
   "display_name": "Python 3",
   "language": "python",
   "name": "python3"
  },
  "language_info": {
   "codemirror_mode": {
    "name": "ipython",
    "version": 3
   },
   "file_extension": ".py",
   "mimetype": "text/x-python",
   "name": "python",
   "nbconvert_exporter": "python",
   "pygments_lexer": "ipython3",
   "version": "3.10.10"
  },
  "papermill": {
   "default_parameters": {},
   "duration": 23.703835,
   "end_time": "2023-06-22T05:56:34.883501",
   "environment_variables": {},
   "exception": null,
   "input_path": "__notebook__.ipynb",
   "output_path": "__notebook__.ipynb",
   "parameters": {},
   "start_time": "2023-06-22T05:56:11.179666",
   "version": "2.4.0"
  }
 },
 "nbformat": 4,
 "nbformat_minor": 5
}
